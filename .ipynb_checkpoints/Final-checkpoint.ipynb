{
 "cells": [
  {
   "cell_type": "markdown",
   "metadata": {},
   "source": [
    "# H1N1/Flu Vaccine Predictions Project\n",
    "\n",
    "Andrew Hendricks"
   ]
  },
  {
   "cell_type": "markdown",
   "metadata": {},
   "source": [
    "## 1. Business Understanding"
   ]
  },
  {
   "cell_type": "markdown",
   "metadata": {},
   "source": [
    "Whether in terms of [lives lost](https://covid19.who.int/), [mental health](https://www.who.int/news/item/02-03-2022-covid-19-pandemic-triggers-25-increase-in-prevalence-of-anxiety-and-depression-worldwide#:~:text=Wake%2Dup%20call%20to%20all,mental%20health%20services%20and%20support&text=In%20the%20first%20year%20of,Health%20Organization%20(WHO)%20today.), or the [economy](https://healthpolicy.usc.edu/article/covid-19s-total-cost-to-the-economy-in-us-will-reach-14-trillion-by-end-of-2023-new-research/#:~:text=From%202020%20to%202023%2C%20the,dollars%2C%20according%20to%20our%20analysis.), the devastation of the COVID-19 pandemic has been colossal. \n",
    "\n",
    "The severity of the COVID-19 crisis highlighted the importance of understanding vaccination patterns. Once scientists developed the vaccine and companies were able to produce it at scale, we saw how influential factors like beliefs, opinions, and politics became in the effort to vaccinate the public. \n",
    "\n",
    "Deepening our understanding of the specifics of how an individual's background, opinions, and behaviors relate to whether or not they decide to get vaccinated can help health officials make data-driven decisions around the most effective ways to protect the public from future pandemics. In this project, I use data from a past pandemic, the H1N1 pandemic of 2009, to create a model that uses information from the National 2009 H1N1 Flu Survey to predict whether people got H1N1 vaccines. I conclude the analysis by offering three recommendations for how public health officials can support future public health efforts.\n",
    "\n",
    "Because of the nature of the problem, my model predicts whether someone will get an H1N1 vaccine, and I use accuracy as my most important classification metric. There is no domain-specific need for the model to do a better job at avoiding false positives or false negatives, so my goal is to create a model that is as accurate as I can make it.\n",
    "\n",
    "This analysis uses data from and adapts the prompt from the Driven Data [Flu Shot Competition](https://www.drivendata.org/competitions/66/flu-shot-learning/). The analysis is influenced by the sources listed in the [about the data section](https://www.drivendata.org/competitions/66/flu-shot-learning/page/213/) and the\n",
    "[data dictionary](https://www.drivendata.org/competitions/66/flu-shot-learning/page/211/) supported the interpretation of categories.  I also relied on sources like StackOverflow and ChatGPT for support with writing some of the code for the project; when I did, I embedded attributions in the cells."
   ]
  },
  {
   "cell_type": "markdown",
   "metadata": {},
   "source": [
    "## 2. Data Understanding"
   ]
  },
  {
   "cell_type": "markdown",
   "metadata": {},
   "source": [
    "Importing libraries and data:"
   ]
  },
  {
   "cell_type": "code",
   "execution_count": 1,
   "metadata": {},
   "outputs": [],
   "source": [
    "import pandas as pd\n",
    "import numpy as np\n",
    "import seaborn as sns\n",
    "\n",
    "from sklearn.linear_model import LogisticRegression, Ridge\n",
    "from sklearn.dummy import DummyClassifier\n",
    "from sklearn.preprocessing import OneHotEncoder, OrdinalEncoder, PolynomialFeatures\n",
    "from sklearn.pipeline import Pipeline\n",
    "from sklearn.compose import ColumnTransformer\n",
    "from sklearn.model_selection import train_test_split\n",
    "from sklearn.impute import SimpleImputer\n",
    "from sklearn.model_selection import GridSearchCV\n",
    "from sklearn.metrics import plot_confusion_matrix, classification_report, plot_roc_curve, log_loss\n",
    "from sklearn.base import BaseEstimator, TransformerMixin"
   ]
  },
  {
   "cell_type": "code",
   "execution_count": 2,
   "metadata": {},
   "outputs": [],
   "source": [
    "df = pd.read_csv('./data/training_set_features.csv')\n",
    "labels = pd.read_csv('./data/training_set_labels.csv')"
   ]
  },
  {
   "cell_type": "markdown",
   "metadata": {},
   "source": [
    "Merging features and labels:"
   ]
  },
  {
   "cell_type": "code",
   "execution_count": 3,
   "metadata": {},
   "outputs": [],
   "source": [
    "df = pd.merge(df, labels, on='respondent_id')"
   ]
  },
  {
   "cell_type": "markdown",
   "metadata": {},
   "source": [
    "Reviewing Basic Data Features:"
   ]
  },
  {
   "cell_type": "code",
   "execution_count": 4,
   "metadata": {},
   "outputs": [
    {
     "name": "stdout",
     "output_type": "stream",
     "text": [
      "<class 'pandas.core.frame.DataFrame'>\n",
      "Int64Index: 26707 entries, 0 to 26706\n",
      "Data columns (total 38 columns):\n",
      " #   Column                       Non-Null Count  Dtype  \n",
      "---  ------                       --------------  -----  \n",
      " 0   respondent_id                26707 non-null  int64  \n",
      " 1   h1n1_concern                 26615 non-null  float64\n",
      " 2   h1n1_knowledge               26591 non-null  float64\n",
      " 3   behavioral_antiviral_meds    26636 non-null  float64\n",
      " 4   behavioral_avoidance         26499 non-null  float64\n",
      " 5   behavioral_face_mask         26688 non-null  float64\n",
      " 6   behavioral_wash_hands        26665 non-null  float64\n",
      " 7   behavioral_large_gatherings  26620 non-null  float64\n",
      " 8   behavioral_outside_home      26625 non-null  float64\n",
      " 9   behavioral_touch_face        26579 non-null  float64\n",
      " 10  doctor_recc_h1n1             24547 non-null  float64\n",
      " 11  doctor_recc_seasonal         24547 non-null  float64\n",
      " 12  chronic_med_condition        25736 non-null  float64\n",
      " 13  child_under_6_months         25887 non-null  float64\n",
      " 14  health_worker                25903 non-null  float64\n",
      " 15  health_insurance             14433 non-null  float64\n",
      " 16  opinion_h1n1_vacc_effective  26316 non-null  float64\n",
      " 17  opinion_h1n1_risk            26319 non-null  float64\n",
      " 18  opinion_h1n1_sick_from_vacc  26312 non-null  float64\n",
      " 19  opinion_seas_vacc_effective  26245 non-null  float64\n",
      " 20  opinion_seas_risk            26193 non-null  float64\n",
      " 21  opinion_seas_sick_from_vacc  26170 non-null  float64\n",
      " 22  age_group                    26707 non-null  object \n",
      " 23  education                    25300 non-null  object \n",
      " 24  race                         26707 non-null  object \n",
      " 25  sex                          26707 non-null  object \n",
      " 26  income_poverty               22284 non-null  object \n",
      " 27  marital_status               25299 non-null  object \n",
      " 28  rent_or_own                  24665 non-null  object \n",
      " 29  employment_status            25244 non-null  object \n",
      " 30  hhs_geo_region               26707 non-null  object \n",
      " 31  census_msa                   26707 non-null  object \n",
      " 32  household_adults             26458 non-null  float64\n",
      " 33  household_children           26458 non-null  float64\n",
      " 34  employment_industry          13377 non-null  object \n",
      " 35  employment_occupation        13237 non-null  object \n",
      " 36  h1n1_vaccine                 26707 non-null  int64  \n",
      " 37  seasonal_vaccine             26707 non-null  int64  \n",
      "dtypes: float64(23), int64(3), object(12)\n",
      "memory usage: 7.9+ MB\n"
     ]
    }
   ],
   "source": [
    "df.info()"
   ]
  },
  {
   "cell_type": "markdown",
   "metadata": {},
   "source": [
    "Observations: Health insurance, employment industry, and employment occupation have about 50% null values. Several other categories also have null values that account for fewer than 10% of overall records. Most of the columns are numeric data types and the rest are objects. We need to further examine the categories with high null counts to decide how to address the nulls."
   ]
  },
  {
   "cell_type": "code",
   "execution_count": 5,
   "metadata": {},
   "outputs": [
    {
     "data": {
      "text/plain": [
       "1.0    0.87972\n",
       "0.0    0.12028\n",
       "Name: health_insurance, dtype: float64"
      ]
     },
     "execution_count": 5,
     "metadata": {},
     "output_type": "execute_result"
    }
   ],
   "source": [
    "df.health_insurance.value_counts(normalize=True)"
   ]
  },
  {
   "cell_type": "code",
   "execution_count": 6,
   "metadata": {},
   "outputs": [
    {
     "data": {
      "text/plain": [
       "fcxhlnwr    0.184496\n",
       "wxleyezf    0.134858\n",
       "ldnlellj    0.092024\n",
       "pxcmvdjn    0.077521\n",
       "atmlpfrs    0.069223\n",
       "arjwrbjb    0.065112\n",
       "xicduogh    0.063617\n",
       "mfikgejo    0.045900\n",
       "vjjrobsf    0.039396\n",
       "rucpziij    0.039097\n",
       "xqicxuve    0.038200\n",
       "saaquncn    0.025267\n",
       "cfqqtusy    0.024295\n",
       "nduyfdeo    0.021380\n",
       "mcubkhph    0.020558\n",
       "wlfvacwt    0.016072\n",
       "dotnnunm    0.015026\n",
       "haxffmxo    0.011064\n",
       "msuufmds    0.009270\n",
       "phxvnwax    0.006653\n",
       "qnlwzans    0.000972\n",
       "Name: employment_industry, dtype: float64"
      ]
     },
     "execution_count": 6,
     "metadata": {},
     "output_type": "execute_result"
    }
   ],
   "source": [
    "df.employment_industry.value_counts(normalize=True)"
   ]
  },
  {
   "cell_type": "code",
   "execution_count": 7,
   "metadata": {},
   "outputs": [
    {
     "data": {
      "text/plain": [
       "xtkaffoo    0.134320\n",
       "mxkfnird    0.113999\n",
       "emcorrxb    0.095943\n",
       "cmhcxjea    0.094206\n",
       "xgwztkwe    0.081741\n",
       "hfxkjkmi    0.057868\n",
       "qxajmpny    0.041399\n",
       "xqwwgdyp    0.036640\n",
       "kldqjyjy    0.035431\n",
       "uqqtjvyb    0.034147\n",
       "tfqavkke    0.029312\n",
       "ukymxvdu    0.028103\n",
       "vlluhbov    0.026743\n",
       "oijqvulv    0.025988\n",
       "ccgxvspp    0.025761\n",
       "bxpfxfdn    0.025006\n",
       "haliazsg    0.022362\n",
       "rcertsgn    0.020851\n",
       "xzmlyyjv    0.018735\n",
       "dlvbwzss    0.017149\n",
       "hodpvpew    0.015714\n",
       "dcjcmpih    0.011181\n",
       "pvmttkik    0.007403\n",
       "Name: employment_occupation, dtype: float64"
      ]
     },
     "execution_count": 7,
     "metadata": {},
     "output_type": "execute_result"
    }
   ],
   "source": [
    "df.employment_occupation.value_counts(normalize=True)"
   ]
  },
  {
   "cell_type": "markdown",
   "metadata": {},
   "source": [
    "Analysis: Approximately 88% of the known health insurance values are class 1, so I am going to use a simple imputer set to 'most frequent' to address the null values in that column as opposed to removing the column or the records with null values. The employment industry and employment occupation columns contain random strings, so analyzing them would not provide any useful information to public health officials. I am going to drop those columns. I will use simple imputer set to most frequent for the remaining columns that have fewer than 10% null values. The data dictionary shows that records in the hhs_geo_region category are also random strings, so I am going to drop that column, too."
   ]
  },
  {
   "cell_type": "code",
   "execution_count": 8,
   "metadata": {},
   "outputs": [],
   "source": [
    "df.drop(['employment_industry','employment_occupation','hhs_geo_region'],axis=1,inplace=True)"
   ]
  },
  {
   "cell_type": "code",
   "execution_count": 9,
   "metadata": {},
   "outputs": [
    {
     "data": {
      "text/html": [
       "<div>\n",
       "<style scoped>\n",
       "    .dataframe tbody tr th:only-of-type {\n",
       "        vertical-align: middle;\n",
       "    }\n",
       "\n",
       "    .dataframe tbody tr th {\n",
       "        vertical-align: top;\n",
       "    }\n",
       "\n",
       "    .dataframe thead th {\n",
       "        text-align: right;\n",
       "    }\n",
       "</style>\n",
       "<table border=\"1\" class=\"dataframe\">\n",
       "  <thead>\n",
       "    <tr style=\"text-align: right;\">\n",
       "      <th></th>\n",
       "      <th>respondent_id</th>\n",
       "      <th>h1n1_concern</th>\n",
       "      <th>h1n1_knowledge</th>\n",
       "      <th>behavioral_antiviral_meds</th>\n",
       "      <th>behavioral_avoidance</th>\n",
       "      <th>behavioral_face_mask</th>\n",
       "      <th>behavioral_wash_hands</th>\n",
       "      <th>behavioral_large_gatherings</th>\n",
       "      <th>behavioral_outside_home</th>\n",
       "      <th>behavioral_touch_face</th>\n",
       "      <th>...</th>\n",
       "      <th>opinion_h1n1_vacc_effective</th>\n",
       "      <th>opinion_h1n1_risk</th>\n",
       "      <th>opinion_h1n1_sick_from_vacc</th>\n",
       "      <th>opinion_seas_vacc_effective</th>\n",
       "      <th>opinion_seas_risk</th>\n",
       "      <th>opinion_seas_sick_from_vacc</th>\n",
       "      <th>household_adults</th>\n",
       "      <th>household_children</th>\n",
       "      <th>h1n1_vaccine</th>\n",
       "      <th>seasonal_vaccine</th>\n",
       "    </tr>\n",
       "  </thead>\n",
       "  <tbody>\n",
       "    <tr>\n",
       "      <th>count</th>\n",
       "      <td>26707.000000</td>\n",
       "      <td>26615.000000</td>\n",
       "      <td>26591.000000</td>\n",
       "      <td>26636.000000</td>\n",
       "      <td>26499.000000</td>\n",
       "      <td>26688.000000</td>\n",
       "      <td>26665.000000</td>\n",
       "      <td>26620.00000</td>\n",
       "      <td>26625.000000</td>\n",
       "      <td>26579.000000</td>\n",
       "      <td>...</td>\n",
       "      <td>26316.000000</td>\n",
       "      <td>26319.000000</td>\n",
       "      <td>26312.000000</td>\n",
       "      <td>26245.000000</td>\n",
       "      <td>26193.000000</td>\n",
       "      <td>26170.000000</td>\n",
       "      <td>26458.000000</td>\n",
       "      <td>26458.000000</td>\n",
       "      <td>26707.000000</td>\n",
       "      <td>26707.000000</td>\n",
       "    </tr>\n",
       "    <tr>\n",
       "      <th>mean</th>\n",
       "      <td>13353.000000</td>\n",
       "      <td>1.618486</td>\n",
       "      <td>1.262532</td>\n",
       "      <td>0.048844</td>\n",
       "      <td>0.725612</td>\n",
       "      <td>0.068982</td>\n",
       "      <td>0.825614</td>\n",
       "      <td>0.35864</td>\n",
       "      <td>0.337315</td>\n",
       "      <td>0.677264</td>\n",
       "      <td>...</td>\n",
       "      <td>3.850623</td>\n",
       "      <td>2.342566</td>\n",
       "      <td>2.357670</td>\n",
       "      <td>4.025986</td>\n",
       "      <td>2.719162</td>\n",
       "      <td>2.118112</td>\n",
       "      <td>0.886499</td>\n",
       "      <td>0.534583</td>\n",
       "      <td>0.212454</td>\n",
       "      <td>0.465608</td>\n",
       "    </tr>\n",
       "    <tr>\n",
       "      <th>std</th>\n",
       "      <td>7709.791156</td>\n",
       "      <td>0.910311</td>\n",
       "      <td>0.618149</td>\n",
       "      <td>0.215545</td>\n",
       "      <td>0.446214</td>\n",
       "      <td>0.253429</td>\n",
       "      <td>0.379448</td>\n",
       "      <td>0.47961</td>\n",
       "      <td>0.472802</td>\n",
       "      <td>0.467531</td>\n",
       "      <td>...</td>\n",
       "      <td>1.007436</td>\n",
       "      <td>1.285539</td>\n",
       "      <td>1.362766</td>\n",
       "      <td>1.086565</td>\n",
       "      <td>1.385055</td>\n",
       "      <td>1.332950</td>\n",
       "      <td>0.753422</td>\n",
       "      <td>0.928173</td>\n",
       "      <td>0.409052</td>\n",
       "      <td>0.498825</td>\n",
       "    </tr>\n",
       "    <tr>\n",
       "      <th>min</th>\n",
       "      <td>0.000000</td>\n",
       "      <td>0.000000</td>\n",
       "      <td>0.000000</td>\n",
       "      <td>0.000000</td>\n",
       "      <td>0.000000</td>\n",
       "      <td>0.000000</td>\n",
       "      <td>0.000000</td>\n",
       "      <td>0.00000</td>\n",
       "      <td>0.000000</td>\n",
       "      <td>0.000000</td>\n",
       "      <td>...</td>\n",
       "      <td>1.000000</td>\n",
       "      <td>1.000000</td>\n",
       "      <td>1.000000</td>\n",
       "      <td>1.000000</td>\n",
       "      <td>1.000000</td>\n",
       "      <td>1.000000</td>\n",
       "      <td>0.000000</td>\n",
       "      <td>0.000000</td>\n",
       "      <td>0.000000</td>\n",
       "      <td>0.000000</td>\n",
       "    </tr>\n",
       "    <tr>\n",
       "      <th>25%</th>\n",
       "      <td>6676.500000</td>\n",
       "      <td>1.000000</td>\n",
       "      <td>1.000000</td>\n",
       "      <td>0.000000</td>\n",
       "      <td>0.000000</td>\n",
       "      <td>0.000000</td>\n",
       "      <td>1.000000</td>\n",
       "      <td>0.00000</td>\n",
       "      <td>0.000000</td>\n",
       "      <td>0.000000</td>\n",
       "      <td>...</td>\n",
       "      <td>3.000000</td>\n",
       "      <td>1.000000</td>\n",
       "      <td>1.000000</td>\n",
       "      <td>4.000000</td>\n",
       "      <td>2.000000</td>\n",
       "      <td>1.000000</td>\n",
       "      <td>0.000000</td>\n",
       "      <td>0.000000</td>\n",
       "      <td>0.000000</td>\n",
       "      <td>0.000000</td>\n",
       "    </tr>\n",
       "    <tr>\n",
       "      <th>50%</th>\n",
       "      <td>13353.000000</td>\n",
       "      <td>2.000000</td>\n",
       "      <td>1.000000</td>\n",
       "      <td>0.000000</td>\n",
       "      <td>1.000000</td>\n",
       "      <td>0.000000</td>\n",
       "      <td>1.000000</td>\n",
       "      <td>0.00000</td>\n",
       "      <td>0.000000</td>\n",
       "      <td>1.000000</td>\n",
       "      <td>...</td>\n",
       "      <td>4.000000</td>\n",
       "      <td>2.000000</td>\n",
       "      <td>2.000000</td>\n",
       "      <td>4.000000</td>\n",
       "      <td>2.000000</td>\n",
       "      <td>2.000000</td>\n",
       "      <td>1.000000</td>\n",
       "      <td>0.000000</td>\n",
       "      <td>0.000000</td>\n",
       "      <td>0.000000</td>\n",
       "    </tr>\n",
       "    <tr>\n",
       "      <th>75%</th>\n",
       "      <td>20029.500000</td>\n",
       "      <td>2.000000</td>\n",
       "      <td>2.000000</td>\n",
       "      <td>0.000000</td>\n",
       "      <td>1.000000</td>\n",
       "      <td>0.000000</td>\n",
       "      <td>1.000000</td>\n",
       "      <td>1.00000</td>\n",
       "      <td>1.000000</td>\n",
       "      <td>1.000000</td>\n",
       "      <td>...</td>\n",
       "      <td>5.000000</td>\n",
       "      <td>4.000000</td>\n",
       "      <td>4.000000</td>\n",
       "      <td>5.000000</td>\n",
       "      <td>4.000000</td>\n",
       "      <td>4.000000</td>\n",
       "      <td>1.000000</td>\n",
       "      <td>1.000000</td>\n",
       "      <td>0.000000</td>\n",
       "      <td>1.000000</td>\n",
       "    </tr>\n",
       "    <tr>\n",
       "      <th>max</th>\n",
       "      <td>26706.000000</td>\n",
       "      <td>3.000000</td>\n",
       "      <td>2.000000</td>\n",
       "      <td>1.000000</td>\n",
       "      <td>1.000000</td>\n",
       "      <td>1.000000</td>\n",
       "      <td>1.000000</td>\n",
       "      <td>1.00000</td>\n",
       "      <td>1.000000</td>\n",
       "      <td>1.000000</td>\n",
       "      <td>...</td>\n",
       "      <td>5.000000</td>\n",
       "      <td>5.000000</td>\n",
       "      <td>5.000000</td>\n",
       "      <td>5.000000</td>\n",
       "      <td>5.000000</td>\n",
       "      <td>5.000000</td>\n",
       "      <td>3.000000</td>\n",
       "      <td>3.000000</td>\n",
       "      <td>1.000000</td>\n",
       "      <td>1.000000</td>\n",
       "    </tr>\n",
       "  </tbody>\n",
       "</table>\n",
       "<p>8 rows × 26 columns</p>\n",
       "</div>"
      ],
      "text/plain": [
       "       respondent_id  h1n1_concern  h1n1_knowledge  behavioral_antiviral_meds  \\\n",
       "count   26707.000000  26615.000000    26591.000000               26636.000000   \n",
       "mean    13353.000000      1.618486        1.262532                   0.048844   \n",
       "std      7709.791156      0.910311        0.618149                   0.215545   \n",
       "min         0.000000      0.000000        0.000000                   0.000000   \n",
       "25%      6676.500000      1.000000        1.000000                   0.000000   \n",
       "50%     13353.000000      2.000000        1.000000                   0.000000   \n",
       "75%     20029.500000      2.000000        2.000000                   0.000000   \n",
       "max     26706.000000      3.000000        2.000000                   1.000000   \n",
       "\n",
       "       behavioral_avoidance  behavioral_face_mask  behavioral_wash_hands  \\\n",
       "count          26499.000000          26688.000000           26665.000000   \n",
       "mean               0.725612              0.068982               0.825614   \n",
       "std                0.446214              0.253429               0.379448   \n",
       "min                0.000000              0.000000               0.000000   \n",
       "25%                0.000000              0.000000               1.000000   \n",
       "50%                1.000000              0.000000               1.000000   \n",
       "75%                1.000000              0.000000               1.000000   \n",
       "max                1.000000              1.000000               1.000000   \n",
       "\n",
       "       behavioral_large_gatherings  behavioral_outside_home  \\\n",
       "count                  26620.00000             26625.000000   \n",
       "mean                       0.35864                 0.337315   \n",
       "std                        0.47961                 0.472802   \n",
       "min                        0.00000                 0.000000   \n",
       "25%                        0.00000                 0.000000   \n",
       "50%                        0.00000                 0.000000   \n",
       "75%                        1.00000                 1.000000   \n",
       "max                        1.00000                 1.000000   \n",
       "\n",
       "       behavioral_touch_face  ...  opinion_h1n1_vacc_effective  \\\n",
       "count           26579.000000  ...                 26316.000000   \n",
       "mean                0.677264  ...                     3.850623   \n",
       "std                 0.467531  ...                     1.007436   \n",
       "min                 0.000000  ...                     1.000000   \n",
       "25%                 0.000000  ...                     3.000000   \n",
       "50%                 1.000000  ...                     4.000000   \n",
       "75%                 1.000000  ...                     5.000000   \n",
       "max                 1.000000  ...                     5.000000   \n",
       "\n",
       "       opinion_h1n1_risk  opinion_h1n1_sick_from_vacc  \\\n",
       "count       26319.000000                 26312.000000   \n",
       "mean            2.342566                     2.357670   \n",
       "std             1.285539                     1.362766   \n",
       "min             1.000000                     1.000000   \n",
       "25%             1.000000                     1.000000   \n",
       "50%             2.000000                     2.000000   \n",
       "75%             4.000000                     4.000000   \n",
       "max             5.000000                     5.000000   \n",
       "\n",
       "       opinion_seas_vacc_effective  opinion_seas_risk  \\\n",
       "count                 26245.000000       26193.000000   \n",
       "mean                      4.025986           2.719162   \n",
       "std                       1.086565           1.385055   \n",
       "min                       1.000000           1.000000   \n",
       "25%                       4.000000           2.000000   \n",
       "50%                       4.000000           2.000000   \n",
       "75%                       5.000000           4.000000   \n",
       "max                       5.000000           5.000000   \n",
       "\n",
       "       opinion_seas_sick_from_vacc  household_adults  household_children  \\\n",
       "count                 26170.000000      26458.000000        26458.000000   \n",
       "mean                      2.118112          0.886499            0.534583   \n",
       "std                       1.332950          0.753422            0.928173   \n",
       "min                       1.000000          0.000000            0.000000   \n",
       "25%                       1.000000          0.000000            0.000000   \n",
       "50%                       2.000000          1.000000            0.000000   \n",
       "75%                       4.000000          1.000000            1.000000   \n",
       "max                       5.000000          3.000000            3.000000   \n",
       "\n",
       "       h1n1_vaccine  seasonal_vaccine  \n",
       "count  26707.000000      26707.000000  \n",
       "mean       0.212454          0.465608  \n",
       "std        0.409052          0.498825  \n",
       "min        0.000000          0.000000  \n",
       "25%        0.000000          0.000000  \n",
       "50%        0.000000          0.000000  \n",
       "75%        0.000000          1.000000  \n",
       "max        1.000000          1.000000  \n",
       "\n",
       "[8 rows x 26 columns]"
      ]
     },
     "execution_count": 9,
     "metadata": {},
     "output_type": "execute_result"
    }
   ],
   "source": [
    "df.describe()"
   ]
  },
  {
   "cell_type": "code",
   "execution_count": 10,
   "metadata": {},
   "outputs": [
    {
     "data": {
      "text/html": [
       "<div>\n",
       "<style scoped>\n",
       "    .dataframe tbody tr th:only-of-type {\n",
       "        vertical-align: middle;\n",
       "    }\n",
       "\n",
       "    .dataframe tbody tr th {\n",
       "        vertical-align: top;\n",
       "    }\n",
       "\n",
       "    .dataframe thead th {\n",
       "        text-align: right;\n",
       "    }\n",
       "</style>\n",
       "<table border=\"1\" class=\"dataframe\">\n",
       "  <thead>\n",
       "    <tr style=\"text-align: right;\">\n",
       "      <th></th>\n",
       "      <th>respondent_id</th>\n",
       "      <th>h1n1_concern</th>\n",
       "      <th>h1n1_knowledge</th>\n",
       "      <th>behavioral_antiviral_meds</th>\n",
       "      <th>behavioral_avoidance</th>\n",
       "      <th>behavioral_face_mask</th>\n",
       "      <th>behavioral_wash_hands</th>\n",
       "      <th>behavioral_large_gatherings</th>\n",
       "      <th>behavioral_outside_home</th>\n",
       "      <th>behavioral_touch_face</th>\n",
       "      <th>...</th>\n",
       "      <th>sex</th>\n",
       "      <th>income_poverty</th>\n",
       "      <th>marital_status</th>\n",
       "      <th>rent_or_own</th>\n",
       "      <th>employment_status</th>\n",
       "      <th>census_msa</th>\n",
       "      <th>household_adults</th>\n",
       "      <th>household_children</th>\n",
       "      <th>h1n1_vaccine</th>\n",
       "      <th>seasonal_vaccine</th>\n",
       "    </tr>\n",
       "  </thead>\n",
       "  <tbody>\n",
       "    <tr>\n",
       "      <th>0</th>\n",
       "      <td>0</td>\n",
       "      <td>1.0</td>\n",
       "      <td>0.0</td>\n",
       "      <td>0.0</td>\n",
       "      <td>0.0</td>\n",
       "      <td>0.0</td>\n",
       "      <td>0.0</td>\n",
       "      <td>0.0</td>\n",
       "      <td>1.0</td>\n",
       "      <td>1.0</td>\n",
       "      <td>...</td>\n",
       "      <td>Female</td>\n",
       "      <td>Below Poverty</td>\n",
       "      <td>Not Married</td>\n",
       "      <td>Own</td>\n",
       "      <td>Not in Labor Force</td>\n",
       "      <td>Non-MSA</td>\n",
       "      <td>0.0</td>\n",
       "      <td>0.0</td>\n",
       "      <td>0</td>\n",
       "      <td>0</td>\n",
       "    </tr>\n",
       "    <tr>\n",
       "      <th>1</th>\n",
       "      <td>1</td>\n",
       "      <td>3.0</td>\n",
       "      <td>2.0</td>\n",
       "      <td>0.0</td>\n",
       "      <td>1.0</td>\n",
       "      <td>0.0</td>\n",
       "      <td>1.0</td>\n",
       "      <td>0.0</td>\n",
       "      <td>1.0</td>\n",
       "      <td>1.0</td>\n",
       "      <td>...</td>\n",
       "      <td>Male</td>\n",
       "      <td>Below Poverty</td>\n",
       "      <td>Not Married</td>\n",
       "      <td>Rent</td>\n",
       "      <td>Employed</td>\n",
       "      <td>MSA, Not Principle  City</td>\n",
       "      <td>0.0</td>\n",
       "      <td>0.0</td>\n",
       "      <td>0</td>\n",
       "      <td>1</td>\n",
       "    </tr>\n",
       "    <tr>\n",
       "      <th>2</th>\n",
       "      <td>2</td>\n",
       "      <td>1.0</td>\n",
       "      <td>1.0</td>\n",
       "      <td>0.0</td>\n",
       "      <td>1.0</td>\n",
       "      <td>0.0</td>\n",
       "      <td>0.0</td>\n",
       "      <td>0.0</td>\n",
       "      <td>0.0</td>\n",
       "      <td>0.0</td>\n",
       "      <td>...</td>\n",
       "      <td>Male</td>\n",
       "      <td>&lt;= $75,000, Above Poverty</td>\n",
       "      <td>Not Married</td>\n",
       "      <td>Own</td>\n",
       "      <td>Employed</td>\n",
       "      <td>MSA, Not Principle  City</td>\n",
       "      <td>2.0</td>\n",
       "      <td>0.0</td>\n",
       "      <td>0</td>\n",
       "      <td>0</td>\n",
       "    </tr>\n",
       "    <tr>\n",
       "      <th>3</th>\n",
       "      <td>3</td>\n",
       "      <td>1.0</td>\n",
       "      <td>1.0</td>\n",
       "      <td>0.0</td>\n",
       "      <td>1.0</td>\n",
       "      <td>0.0</td>\n",
       "      <td>1.0</td>\n",
       "      <td>1.0</td>\n",
       "      <td>0.0</td>\n",
       "      <td>0.0</td>\n",
       "      <td>...</td>\n",
       "      <td>Female</td>\n",
       "      <td>Below Poverty</td>\n",
       "      <td>Not Married</td>\n",
       "      <td>Rent</td>\n",
       "      <td>Not in Labor Force</td>\n",
       "      <td>MSA, Principle City</td>\n",
       "      <td>0.0</td>\n",
       "      <td>0.0</td>\n",
       "      <td>0</td>\n",
       "      <td>1</td>\n",
       "    </tr>\n",
       "    <tr>\n",
       "      <th>4</th>\n",
       "      <td>4</td>\n",
       "      <td>2.0</td>\n",
       "      <td>1.0</td>\n",
       "      <td>0.0</td>\n",
       "      <td>1.0</td>\n",
       "      <td>0.0</td>\n",
       "      <td>1.0</td>\n",
       "      <td>1.0</td>\n",
       "      <td>0.0</td>\n",
       "      <td>1.0</td>\n",
       "      <td>...</td>\n",
       "      <td>Female</td>\n",
       "      <td>&lt;= $75,000, Above Poverty</td>\n",
       "      <td>Married</td>\n",
       "      <td>Own</td>\n",
       "      <td>Employed</td>\n",
       "      <td>MSA, Not Principle  City</td>\n",
       "      <td>1.0</td>\n",
       "      <td>0.0</td>\n",
       "      <td>0</td>\n",
       "      <td>0</td>\n",
       "    </tr>\n",
       "  </tbody>\n",
       "</table>\n",
       "<p>5 rows × 35 columns</p>\n",
       "</div>"
      ],
      "text/plain": [
       "   respondent_id  h1n1_concern  h1n1_knowledge  behavioral_antiviral_meds  \\\n",
       "0              0           1.0             0.0                        0.0   \n",
       "1              1           3.0             2.0                        0.0   \n",
       "2              2           1.0             1.0                        0.0   \n",
       "3              3           1.0             1.0                        0.0   \n",
       "4              4           2.0             1.0                        0.0   \n",
       "\n",
       "   behavioral_avoidance  behavioral_face_mask  behavioral_wash_hands  \\\n",
       "0                   0.0                   0.0                    0.0   \n",
       "1                   1.0                   0.0                    1.0   \n",
       "2                   1.0                   0.0                    0.0   \n",
       "3                   1.0                   0.0                    1.0   \n",
       "4                   1.0                   0.0                    1.0   \n",
       "\n",
       "   behavioral_large_gatherings  behavioral_outside_home  \\\n",
       "0                          0.0                      1.0   \n",
       "1                          0.0                      1.0   \n",
       "2                          0.0                      0.0   \n",
       "3                          1.0                      0.0   \n",
       "4                          1.0                      0.0   \n",
       "\n",
       "   behavioral_touch_face  ...     sex             income_poverty  \\\n",
       "0                    1.0  ...  Female              Below Poverty   \n",
       "1                    1.0  ...    Male              Below Poverty   \n",
       "2                    0.0  ...    Male  <= $75,000, Above Poverty   \n",
       "3                    0.0  ...  Female              Below Poverty   \n",
       "4                    1.0  ...  Female  <= $75,000, Above Poverty   \n",
       "\n",
       "   marital_status  rent_or_own   employment_status                census_msa  \\\n",
       "0     Not Married          Own  Not in Labor Force                   Non-MSA   \n",
       "1     Not Married         Rent            Employed  MSA, Not Principle  City   \n",
       "2     Not Married          Own            Employed  MSA, Not Principle  City   \n",
       "3     Not Married         Rent  Not in Labor Force       MSA, Principle City   \n",
       "4         Married          Own            Employed  MSA, Not Principle  City   \n",
       "\n",
       "   household_adults  household_children  h1n1_vaccine  seasonal_vaccine  \n",
       "0               0.0                 0.0             0                 0  \n",
       "1               0.0                 0.0             0                 1  \n",
       "2               2.0                 0.0             0                 0  \n",
       "3               0.0                 0.0             0                 1  \n",
       "4               1.0                 0.0             0                 0  \n",
       "\n",
       "[5 rows x 35 columns]"
      ]
     },
     "execution_count": 10,
     "metadata": {},
     "output_type": "execute_result"
    }
   ],
   "source": [
    "df.head()"
   ]
  },
  {
   "cell_type": "markdown",
   "metadata": {},
   "source": [
    "Observations: Despite the fact that the majority of columns contain numeric data types, virtually all of the columns can be treated as categorical because they contain discrete responses to survey questions. Many of the columns contain binaries and the rest contain survey responses with a maximum of five response options."
   ]
  },
  {
   "cell_type": "markdown",
   "metadata": {},
   "source": [
    "Analysis: I will treat all columns as categoricals and will use one-hot encoding for columns that are not already binary. I will not include Respondent ID in the analysis, but I will include information related to the seasonal flu because it could relate to behavior around H1N1 vaccination."
   ]
  },
  {
   "cell_type": "markdown",
   "metadata": {},
   "source": [
    "Checking for data imbalance in the target:"
   ]
  },
  {
   "cell_type": "code",
   "execution_count": 11,
   "metadata": {},
   "outputs": [
    {
     "data": {
      "text/plain": [
       "0    21033\n",
       "1     5674\n",
       "Name: h1n1_vaccine, dtype: int64"
      ]
     },
     "execution_count": 11,
     "metadata": {},
     "output_type": "execute_result"
    }
   ],
   "source": [
    "df.h1n1_vaccine.value_counts()"
   ]
  },
  {
   "cell_type": "code",
   "execution_count": 12,
   "metadata": {},
   "outputs": [
    {
     "data": {
      "text/plain": [
       "0    0.787546\n",
       "1    0.212454\n",
       "Name: h1n1_vaccine, dtype: float64"
      ]
     },
     "execution_count": 12,
     "metadata": {},
     "output_type": "execute_result"
    }
   ],
   "source": [
    "df.h1n1_vaccine.value_counts(normalize=True)"
   ]
  },
  {
   "cell_type": "markdown",
   "metadata": {},
   "source": [
    "Analysis: Logistic regression can work with data imbalance up to a threshold of about 85/15, so I am going to tolerate the 79/21 ratio present in this data. Based on the volume of records in class zero, the dummy classifier should get an accuracy score of 0.787546 by predicting that each record is a member of class zero. That will be the minimum score to beat with the model."
   ]
  },
  {
   "cell_type": "markdown",
   "metadata": {},
   "source": [
    "## 3. Data Preparation"
   ]
  },
  {
   "cell_type": "markdown",
   "metadata": {},
   "source": [
    "Defining independent and dependent variables and performing train-test split:"
   ]
  },
  {
   "cell_type": "code",
   "execution_count": 13,
   "metadata": {},
   "outputs": [],
   "source": [
    "df1 = df.copy()"
   ]
  },
  {
   "cell_type": "code",
   "execution_count": 14,
   "metadata": {},
   "outputs": [
    {
     "name": "stdout",
     "output_type": "stream",
     "text": [
      "<class 'pandas.core.frame.DataFrame'>\n",
      "Int64Index: 26707 entries, 0 to 26706\n",
      "Data columns (total 35 columns):\n",
      " #   Column                       Non-Null Count  Dtype  \n",
      "---  ------                       --------------  -----  \n",
      " 0   respondent_id                26707 non-null  int64  \n",
      " 1   h1n1_concern                 26615 non-null  float64\n",
      " 2   h1n1_knowledge               26591 non-null  float64\n",
      " 3   behavioral_antiviral_meds    26636 non-null  float64\n",
      " 4   behavioral_avoidance         26499 non-null  float64\n",
      " 5   behavioral_face_mask         26688 non-null  float64\n",
      " 6   behavioral_wash_hands        26665 non-null  float64\n",
      " 7   behavioral_large_gatherings  26620 non-null  float64\n",
      " 8   behavioral_outside_home      26625 non-null  float64\n",
      " 9   behavioral_touch_face        26579 non-null  float64\n",
      " 10  doctor_recc_h1n1             24547 non-null  float64\n",
      " 11  doctor_recc_seasonal         24547 non-null  float64\n",
      " 12  chronic_med_condition        25736 non-null  float64\n",
      " 13  child_under_6_months         25887 non-null  float64\n",
      " 14  health_worker                25903 non-null  float64\n",
      " 15  health_insurance             14433 non-null  float64\n",
      " 16  opinion_h1n1_vacc_effective  26316 non-null  float64\n",
      " 17  opinion_h1n1_risk            26319 non-null  float64\n",
      " 18  opinion_h1n1_sick_from_vacc  26312 non-null  float64\n",
      " 19  opinion_seas_vacc_effective  26245 non-null  float64\n",
      " 20  opinion_seas_risk            26193 non-null  float64\n",
      " 21  opinion_seas_sick_from_vacc  26170 non-null  float64\n",
      " 22  age_group                    26707 non-null  object \n",
      " 23  education                    25300 non-null  object \n",
      " 24  race                         26707 non-null  object \n",
      " 25  sex                          26707 non-null  object \n",
      " 26  income_poverty               22284 non-null  object \n",
      " 27  marital_status               25299 non-null  object \n",
      " 28  rent_or_own                  24665 non-null  object \n",
      " 29  employment_status            25244 non-null  object \n",
      " 30  census_msa                   26707 non-null  object \n",
      " 31  household_adults             26458 non-null  float64\n",
      " 32  household_children           26458 non-null  float64\n",
      " 33  h1n1_vaccine                 26707 non-null  int64  \n",
      " 34  seasonal_vaccine             26707 non-null  int64  \n",
      "dtypes: float64(23), int64(3), object(9)\n",
      "memory usage: 7.3+ MB\n"
     ]
    }
   ],
   "source": [
    "df1.info()"
   ]
  },
  {
   "cell_type": "code",
   "execution_count": 15,
   "metadata": {},
   "outputs": [],
   "source": [
    "X = df1.drop(['respondent_id','h1n1_vaccine','seasonal_vaccine'], axis=1)\n",
    "y = df1['h1n1_vaccine']"
   ]
  },
  {
   "cell_type": "markdown",
   "metadata": {},
   "source": [
    "Explanation: I am dropping seasonal vaccine from the independent variables because it may help the model's predictions, the purpose of this exercise is to predict vaccination behavior without knowing vaccination status. Including seasonal flu vaccine status in the model would therefore compromise the results by undermining the purpose of the analysis."
   ]
  },
  {
   "cell_type": "code",
   "execution_count": 16,
   "metadata": {},
   "outputs": [],
   "source": [
    "X_train, X_test, y_train, y_test = train_test_split(X, y, random_state=42)"
   ]
  },
  {
   "cell_type": "code",
   "execution_count": 17,
   "metadata": {},
   "outputs": [
    {
     "data": {
      "text/html": [
       "<div>\n",
       "<style scoped>\n",
       "    .dataframe tbody tr th:only-of-type {\n",
       "        vertical-align: middle;\n",
       "    }\n",
       "\n",
       "    .dataframe tbody tr th {\n",
       "        vertical-align: top;\n",
       "    }\n",
       "\n",
       "    .dataframe thead th {\n",
       "        text-align: right;\n",
       "    }\n",
       "</style>\n",
       "<table border=\"1\" class=\"dataframe\">\n",
       "  <thead>\n",
       "    <tr style=\"text-align: right;\">\n",
       "      <th></th>\n",
       "      <th>h1n1_concern</th>\n",
       "      <th>h1n1_knowledge</th>\n",
       "      <th>behavioral_antiviral_meds</th>\n",
       "      <th>behavioral_avoidance</th>\n",
       "      <th>behavioral_face_mask</th>\n",
       "      <th>behavioral_wash_hands</th>\n",
       "      <th>behavioral_large_gatherings</th>\n",
       "      <th>behavioral_outside_home</th>\n",
       "      <th>behavioral_touch_face</th>\n",
       "      <th>doctor_recc_h1n1</th>\n",
       "      <th>...</th>\n",
       "      <th>education</th>\n",
       "      <th>race</th>\n",
       "      <th>sex</th>\n",
       "      <th>income_poverty</th>\n",
       "      <th>marital_status</th>\n",
       "      <th>rent_or_own</th>\n",
       "      <th>employment_status</th>\n",
       "      <th>census_msa</th>\n",
       "      <th>household_adults</th>\n",
       "      <th>household_children</th>\n",
       "    </tr>\n",
       "  </thead>\n",
       "  <tbody>\n",
       "    <tr>\n",
       "      <th>25194</th>\n",
       "      <td>1.0</td>\n",
       "      <td>1.0</td>\n",
       "      <td>0.0</td>\n",
       "      <td>0.0</td>\n",
       "      <td>0.0</td>\n",
       "      <td>0.0</td>\n",
       "      <td>0.0</td>\n",
       "      <td>0.0</td>\n",
       "      <td>0.0</td>\n",
       "      <td>NaN</td>\n",
       "      <td>...</td>\n",
       "      <td>12 Years</td>\n",
       "      <td>White</td>\n",
       "      <td>Female</td>\n",
       "      <td>NaN</td>\n",
       "      <td>Not Married</td>\n",
       "      <td>Own</td>\n",
       "      <td>Not in Labor Force</td>\n",
       "      <td>Non-MSA</td>\n",
       "      <td>1.0</td>\n",
       "      <td>1.0</td>\n",
       "    </tr>\n",
       "    <tr>\n",
       "      <th>14006</th>\n",
       "      <td>2.0</td>\n",
       "      <td>1.0</td>\n",
       "      <td>0.0</td>\n",
       "      <td>1.0</td>\n",
       "      <td>0.0</td>\n",
       "      <td>1.0</td>\n",
       "      <td>0.0</td>\n",
       "      <td>0.0</td>\n",
       "      <td>0.0</td>\n",
       "      <td>0.0</td>\n",
       "      <td>...</td>\n",
       "      <td>Some College</td>\n",
       "      <td>White</td>\n",
       "      <td>Female</td>\n",
       "      <td>NaN</td>\n",
       "      <td>Married</td>\n",
       "      <td>NaN</td>\n",
       "      <td>Employed</td>\n",
       "      <td>MSA, Not Principle  City</td>\n",
       "      <td>2.0</td>\n",
       "      <td>1.0</td>\n",
       "    </tr>\n",
       "    <tr>\n",
       "      <th>11285</th>\n",
       "      <td>0.0</td>\n",
       "      <td>0.0</td>\n",
       "      <td>0.0</td>\n",
       "      <td>0.0</td>\n",
       "      <td>0.0</td>\n",
       "      <td>0.0</td>\n",
       "      <td>0.0</td>\n",
       "      <td>0.0</td>\n",
       "      <td>0.0</td>\n",
       "      <td>0.0</td>\n",
       "      <td>...</td>\n",
       "      <td>College Graduate</td>\n",
       "      <td>White</td>\n",
       "      <td>Female</td>\n",
       "      <td>&lt;= $75,000, Above Poverty</td>\n",
       "      <td>Not Married</td>\n",
       "      <td>Own</td>\n",
       "      <td>Employed</td>\n",
       "      <td>MSA, Principle City</td>\n",
       "      <td>0.0</td>\n",
       "      <td>1.0</td>\n",
       "    </tr>\n",
       "    <tr>\n",
       "      <th>2900</th>\n",
       "      <td>1.0</td>\n",
       "      <td>1.0</td>\n",
       "      <td>0.0</td>\n",
       "      <td>0.0</td>\n",
       "      <td>0.0</td>\n",
       "      <td>0.0</td>\n",
       "      <td>0.0</td>\n",
       "      <td>0.0</td>\n",
       "      <td>0.0</td>\n",
       "      <td>0.0</td>\n",
       "      <td>...</td>\n",
       "      <td>College Graduate</td>\n",
       "      <td>White</td>\n",
       "      <td>Male</td>\n",
       "      <td>Below Poverty</td>\n",
       "      <td>Not Married</td>\n",
       "      <td>Own</td>\n",
       "      <td>Employed</td>\n",
       "      <td>MSA, Not Principle  City</td>\n",
       "      <td>0.0</td>\n",
       "      <td>0.0</td>\n",
       "    </tr>\n",
       "    <tr>\n",
       "      <th>19083</th>\n",
       "      <td>2.0</td>\n",
       "      <td>1.0</td>\n",
       "      <td>1.0</td>\n",
       "      <td>1.0</td>\n",
       "      <td>0.0</td>\n",
       "      <td>1.0</td>\n",
       "      <td>1.0</td>\n",
       "      <td>1.0</td>\n",
       "      <td>1.0</td>\n",
       "      <td>1.0</td>\n",
       "      <td>...</td>\n",
       "      <td>NaN</td>\n",
       "      <td>White</td>\n",
       "      <td>Female</td>\n",
       "      <td>NaN</td>\n",
       "      <td>NaN</td>\n",
       "      <td>NaN</td>\n",
       "      <td>NaN</td>\n",
       "      <td>MSA, Not Principle  City</td>\n",
       "      <td>NaN</td>\n",
       "      <td>NaN</td>\n",
       "    </tr>\n",
       "  </tbody>\n",
       "</table>\n",
       "<p>5 rows × 32 columns</p>\n",
       "</div>"
      ],
      "text/plain": [
       "       h1n1_concern  h1n1_knowledge  behavioral_antiviral_meds  \\\n",
       "25194           1.0             1.0                        0.0   \n",
       "14006           2.0             1.0                        0.0   \n",
       "11285           0.0             0.0                        0.0   \n",
       "2900            1.0             1.0                        0.0   \n",
       "19083           2.0             1.0                        1.0   \n",
       "\n",
       "       behavioral_avoidance  behavioral_face_mask  behavioral_wash_hands  \\\n",
       "25194                   0.0                   0.0                    0.0   \n",
       "14006                   1.0                   0.0                    1.0   \n",
       "11285                   0.0                   0.0                    0.0   \n",
       "2900                    0.0                   0.0                    0.0   \n",
       "19083                   1.0                   0.0                    1.0   \n",
       "\n",
       "       behavioral_large_gatherings  behavioral_outside_home  \\\n",
       "25194                          0.0                      0.0   \n",
       "14006                          0.0                      0.0   \n",
       "11285                          0.0                      0.0   \n",
       "2900                           0.0                      0.0   \n",
       "19083                          1.0                      1.0   \n",
       "\n",
       "       behavioral_touch_face  doctor_recc_h1n1  ...         education   race  \\\n",
       "25194                    0.0               NaN  ...          12 Years  White   \n",
       "14006                    0.0               0.0  ...      Some College  White   \n",
       "11285                    0.0               0.0  ...  College Graduate  White   \n",
       "2900                     0.0               0.0  ...  College Graduate  White   \n",
       "19083                    1.0               1.0  ...               NaN  White   \n",
       "\n",
       "          sex             income_poverty  marital_status  rent_or_own  \\\n",
       "25194  Female                        NaN     Not Married          Own   \n",
       "14006  Female                        NaN         Married          NaN   \n",
       "11285  Female  <= $75,000, Above Poverty     Not Married          Own   \n",
       "2900     Male              Below Poverty     Not Married          Own   \n",
       "19083  Female                        NaN             NaN          NaN   \n",
       "\n",
       "        employment_status                census_msa  household_adults  \\\n",
       "25194  Not in Labor Force                   Non-MSA               1.0   \n",
       "14006            Employed  MSA, Not Principle  City               2.0   \n",
       "11285            Employed       MSA, Principle City               0.0   \n",
       "2900             Employed  MSA, Not Principle  City               0.0   \n",
       "19083                 NaN  MSA, Not Principle  City               NaN   \n",
       "\n",
       "       household_children  \n",
       "25194                 1.0  \n",
       "14006                 1.0  \n",
       "11285                 1.0  \n",
       "2900                  0.0  \n",
       "19083                 NaN  \n",
       "\n",
       "[5 rows x 32 columns]"
      ]
     },
     "execution_count": 17,
     "metadata": {},
     "output_type": "execute_result"
    }
   ],
   "source": [
    "X_train.head()"
   ]
  },
  {
   "cell_type": "markdown",
   "metadata": {},
   "source": [
    "Differentiating between binary columns and columns that need OHE; creating initial pipelines:"
   ]
  },
  {
   "cell_type": "code",
   "execution_count": 18,
   "metadata": {},
   "outputs": [],
   "source": [
    "ohecols = ['household_adults','household_children','age_group','education','race','sex','income_poverty',\n",
    "           'marital_status', 'rent_or_own','employment_status','census_msa', 'h1n1_concern', 'h1n1_knowledge',\n",
    "           'opinion_h1n1_vacc_effective','opinion_h1n1_risk','opinion_h1n1_sick_from_vacc','opinion_seas_vacc_effective',\n",
    "           'opinion_seas_risk','opinion_seas_sick_from_vacc']"
   ]
  },
  {
   "cell_type": "code",
   "execution_count": 19,
   "metadata": {},
   "outputs": [],
   "source": [
    "bincols = ['behavioral_antiviral_meds','behavioral_avoidance','behavioral_face_mask','behavioral_wash_hands',\n",
    "           'behavioral_large_gatherings', 'behavioral_outside_home', 'behavioral_touch_face', 'doctor_recc_h1n1', \n",
    "           'doctor_recc_seasonal','chronic_med_condition','child_under_6_months','health_worker', 'health_insurance']"
   ]
  },
  {
   "cell_type": "code",
   "execution_count": 20,
   "metadata": {},
   "outputs": [],
   "source": [
    "onehot = OneHotEncoder(sparse=False, handle_unknown='ignore')\n",
    "\n",
    "ohe_sub = Pipeline([\n",
    "    ('cat_impute', SimpleImputer(strategy='most_frequent')),\n",
    "    ('ohe', onehot)\n",
    "])"
   ]
  },
  {
   "cell_type": "code",
   "execution_count": 21,
   "metadata": {},
   "outputs": [],
   "source": [
    "bin_sub = Pipeline([\n",
    "    ('cat_impute', SimpleImputer(strategy='most_frequent'))\n",
    "])"
   ]
  },
  {
   "cell_type": "code",
   "execution_count": 22,
   "metadata": {},
   "outputs": [],
   "source": [
    "CT = ColumnTransformer(transformers=[\n",
    "    ('onehot', ohe_sub, ohecols),\n",
    "    ('binary', bin_sub, bincols)\n",
    "])\n",
    "\n",
    "bin_sub = Pipeline([\n",
    "    ('cat_impute', SimpleImputer(strategy='most_frequent'))\n",
    "])"
   ]
  },
  {
   "cell_type": "markdown",
   "metadata": {},
   "source": [
    "## 4. Modeling"
   ]
  },
  {
   "cell_type": "markdown",
   "metadata": {},
   "source": [
    "### 4.1 Baseline Model: Dummy"
   ]
  },
  {
   "cell_type": "markdown",
   "metadata": {},
   "source": [
    "Using dummy classifier to create baseline predictions:"
   ]
  },
  {
   "cell_type": "code",
   "execution_count": 23,
   "metadata": {},
   "outputs": [],
   "source": [
    "dum_pipe = Pipeline(steps=[\n",
    "    ('ct', CT),\n",
    "    ('dummy', DummyClassifier(strategy='most_frequent'))\n",
    "])"
   ]
  },
  {
   "cell_type": "code",
   "execution_count": 24,
   "metadata": {},
   "outputs": [
    {
     "data": {
      "text/plain": [
       "Pipeline(steps=[('ct',\n",
       "                 ColumnTransformer(transformers=[('onehot',\n",
       "                                                  Pipeline(steps=[('cat_impute',\n",
       "                                                                   SimpleImputer(strategy='most_frequent')),\n",
       "                                                                  ('ohe',\n",
       "                                                                   OneHotEncoder(handle_unknown='ignore',\n",
       "                                                                                 sparse=False))]),\n",
       "                                                  ['household_adults',\n",
       "                                                   'household_children',\n",
       "                                                   'age_group', 'education',\n",
       "                                                   'race', 'sex',\n",
       "                                                   'income_poverty',\n",
       "                                                   'marital_status',\n",
       "                                                   'rent_or_own',\n",
       "                                                   'employment_status',\n",
       "                                                   'census...\n",
       "                                                  ['behavioral_antiviral_meds',\n",
       "                                                   'behavioral_avoidance',\n",
       "                                                   'behavioral_face_mask',\n",
       "                                                   'behavioral_wash_hands',\n",
       "                                                   'behavioral_large_gatherings',\n",
       "                                                   'behavioral_outside_home',\n",
       "                                                   'behavioral_touch_face',\n",
       "                                                   'doctor_recc_h1n1',\n",
       "                                                   'doctor_recc_seasonal',\n",
       "                                                   'chronic_med_condition',\n",
       "                                                   'child_under_6_months',\n",
       "                                                   'health_worker',\n",
       "                                                   'health_insurance'])])),\n",
       "                ('dummy', DummyClassifier(strategy='most_frequent'))])"
      ]
     },
     "execution_count": 24,
     "metadata": {},
     "output_type": "execute_result"
    }
   ],
   "source": [
    "dum_pipe.fit(X_train, y_train)"
   ]
  },
  {
   "cell_type": "markdown",
   "metadata": {},
   "source": [
    "Classification metrics and visualizations:"
   ]
  },
  {
   "cell_type": "code",
   "execution_count": 25,
   "metadata": {},
   "outputs": [
    {
     "name": "stdout",
     "output_type": "stream",
     "text": [
      "              precision    recall  f1-score   support\n",
      "\n",
      "           0       0.79      1.00      0.88      5260\n",
      "           1       0.00      0.00      0.00      1417\n",
      "\n",
      "    accuracy                           0.79      6677\n",
      "   macro avg       0.39      0.50      0.44      6677\n",
      "weighted avg       0.62      0.79      0.69      6677\n",
      "\n"
     ]
    },
    {
     "name": "stderr",
     "output_type": "stream",
     "text": [
      "C:\\Users\\Hendricks\\anaconda3\\envs\\learn-env\\lib\\site-packages\\sklearn\\metrics\\_classification.py:1221: UndefinedMetricWarning: Precision and F-score are ill-defined and being set to 0.0 in labels with no predicted samples. Use `zero_division` parameter to control this behavior.\n",
      "  _warn_prf(average, modifier, msg_start, len(result))\n"
     ]
    }
   ],
   "source": [
    "print(classification_report(y_test, dum_pipe.predict(X_test)))"
   ]
  },
  {
   "cell_type": "code",
   "execution_count": 26,
   "metadata": {},
   "outputs": [
    {
     "data": {
      "image/png": "[encoded data removed]",
      "text/plain": [
       "<Figure size 432x288 with 2 Axes>"
      ]
     },
     "metadata": {
      "needs_background": "light"
     },
     "output_type": "display_data"
    }
   ],
   "source": [
    "plot_confusion_matrix(dum_pipe, X_test, y_test);"
   ]
  },
  {
   "cell_type": "code",
   "execution_count": 27,
   "metadata": {},
   "outputs": [
    {
     "data": {
      "image/png": "[encoded data removed]",
      "text/plain": [
       "<Figure size 432x288 with 1 Axes>"
      ]
     },
     "metadata": {
      "needs_background": "light"
     },
     "output_type": "display_data"
    }
   ],
   "source": [
    "plot_roc_curve(dum_pipe, X_test, y_test);"
   ]
  },
  {
   "cell_type": "code",
   "execution_count": 28,
   "metadata": {},
   "outputs": [
    {
     "data": {
      "text/plain": [
       "7.329855646486213"
      ]
     },
     "execution_count": 28,
     "metadata": {},
     "output_type": "execute_result"
    }
   ],
   "source": [
    "log_loss(y_test, dum_pipe.predict_proba(X_test))"
   ]
  },
  {
   "cell_type": "markdown",
   "metadata": {},
   "source": [
    "Analysis: As expected, the dummy classifier achieved an accuracy rate of 79%. Its precision score, recall score, and F1 score for predicting class 1 were all 0 because it predicts that every data point comes from class zero. The confusion matrix visualizes the dummy classifier's methodology, and the ROC curve shows through the AUC = .5 that the correctness of the model's predictions is based on chance. The log loss score further confirms the unreliability of the dummy classifier."
   ]
  },
  {
   "cell_type": "markdown",
   "metadata": {},
   "source": [
    "### 4.2 First Model: Logistic Regression on All Categories"
   ]
  },
  {
   "cell_type": "code",
   "execution_count": 29,
   "metadata": {},
   "outputs": [],
   "source": [
    "fsm_pipe = Pipeline(steps=[\n",
    "    ('ct', CT),\n",
    "    ('fsm', LogisticRegression())\n",
    "])"
   ]
  },
  {
   "cell_type": "code",
   "execution_count": 30,
   "metadata": {},
   "outputs": [
    {
     "name": "stderr",
     "output_type": "stream",
     "text": [
      "C:\\Users\\Hendricks\\anaconda3\\envs\\learn-env\\lib\\site-packages\\sklearn\\linear_model\\_logistic.py:762: ConvergenceWarning: lbfgs failed to converge (status=1):\n",
      "STOP: TOTAL NO. of ITERATIONS REACHED LIMIT.\n",
      "\n",
      "Increase the number of iterations (max_iter) or scale the data as shown in:\n",
      "    https://scikit-learn.org/stable/modules/preprocessing.html\n",
      "Please also refer to the documentation for alternative solver options:\n",
      "    https://scikit-learn.org/stable/modules/linear_model.html#logistic-regression\n",
      "  n_iter_i = _check_optimize_result(\n"
     ]
    },
    {
     "data": {
      "text/plain": [
       "Pipeline(steps=[('ct',\n",
       "                 ColumnTransformer(transformers=[('onehot',\n",
       "                                                  Pipeline(steps=[('cat_impute',\n",
       "                                                                   SimpleImputer(strategy='most_frequent')),\n",
       "                                                                  ('ohe',\n",
       "                                                                   OneHotEncoder(handle_unknown='ignore',\n",
       "                                                                                 sparse=False))]),\n",
       "                                                  ['household_adults',\n",
       "                                                   'household_children',\n",
       "                                                   'age_group', 'education',\n",
       "                                                   'race', 'sex',\n",
       "                                                   'income_poverty',\n",
       "                                                   'marital_status',\n",
       "                                                   'rent_or_own',\n",
       "                                                   'employment_status',\n",
       "                                                   'census...\n",
       "                                                                   SimpleImputer(strategy='most_frequent'))]),\n",
       "                                                  ['behavioral_antiviral_meds',\n",
       "                                                   'behavioral_avoidance',\n",
       "                                                   'behavioral_face_mask',\n",
       "                                                   'behavioral_wash_hands',\n",
       "                                                   'behavioral_large_gatherings',\n",
       "                                                   'behavioral_outside_home',\n",
       "                                                   'behavioral_touch_face',\n",
       "                                                   'doctor_recc_h1n1',\n",
       "                                                   'doctor_recc_seasonal',\n",
       "                                                   'chronic_med_condition',\n",
       "                                                   'child_under_6_months',\n",
       "                                                   'health_worker',\n",
       "                                                   'health_insurance'])])),\n",
       "                ('fsm', LogisticRegression())])"
      ]
     },
     "execution_count": 30,
     "metadata": {},
     "output_type": "execute_result"
    }
   ],
   "source": [
    "fsm_pipe.fit(X_train, y_train)"
   ]
  },
  {
   "cell_type": "markdown",
   "metadata": {},
   "source": [
    "Classification metrics and visualizations:"
   ]
  },
  {
   "cell_type": "code",
   "execution_count": 31,
   "metadata": {},
   "outputs": [
    {
     "name": "stdout",
     "output_type": "stream",
     "text": [
      "              precision    recall  f1-score   support\n",
      "\n",
      "           0       0.86      0.95      0.90      5260\n",
      "           1       0.71      0.43      0.53      1417\n",
      "\n",
      "    accuracy                           0.84      6677\n",
      "   macro avg       0.78      0.69      0.72      6677\n",
      "weighted avg       0.83      0.84      0.82      6677\n",
      "\n"
     ]
    }
   ],
   "source": [
    "print(classification_report(y_test, fsm_pipe.predict(X_test)))"
   ]
  },
  {
   "cell_type": "code",
   "execution_count": 32,
   "metadata": {},
   "outputs": [
    {
     "data": {
      "image/png": "[encoded data removed]",
      "text/plain": [
       "<Figure size 432x288 with 2 Axes>"
      ]
     },
     "metadata": {
      "needs_background": "light"
     },
     "output_type": "display_data"
    }
   ],
   "source": [
    "plot_confusion_matrix(fsm_pipe, X_test, y_test);"
   ]
  },
  {
   "cell_type": "code",
   "execution_count": 33,
   "metadata": {},
   "outputs": [
    {
     "data": {
      "image/png": "[encoded data removed]",
      "text/plain": [
       "<Figure size 432x288 with 1 Axes>"
      ]
     },
     "metadata": {
      "needs_background": "light"
     },
     "output_type": "display_data"
    }
   ],
   "source": [
    "plot_roc_curve(fsm_pipe, X_test, y_test);"
   ]
  },
  {
   "cell_type": "code",
   "execution_count": 34,
   "metadata": {},
   "outputs": [
    {
     "data": {
      "text/plain": [
       "0.38017038481218196"
      ]
     },
     "execution_count": 34,
     "metadata": {},
     "output_type": "execute_result"
    }
   ],
   "source": [
    "log_loss(y_test, fsm_pipe.predict_proba(X_test))"
   ]
  },
  {
   "cell_type": "markdown",
   "metadata": {},
   "source": [
    "Analysis: Our first simple model was able to outperform the dummy classifier in virtually every classification metric. The accuracy score improved from 79% to 84%; recall, precision, and F1 all improved; AUC rose from .5 to .83; and log loss decreased from 7.33 to .38. Given the consensus of all of these metrics, it is safe to say that the first simple model made better predictions than the dummy."
   ]
  },
  {
   "cell_type": "markdown",
   "metadata": {},
   "source": [
    "Next, I used grid search to optimize first simple model.  I used resources from [here](https://levelup.gitconnected.com/a-comprehensive-analysis-of-hyperparameter-optimization-in-logistic-regression-models-521564c1bfc0) and [here](https://scikit-learn.org/stable/modules/generated/sklearn.linear_model.LogisticRegression.html) to help guide my selection of hyperparameters and parameters."
   ]
  },
  {
   "cell_type": "code",
   "execution_count": 35,
   "metadata": {},
   "outputs": [],
   "source": [
    "params = {\n",
    "    'fsm__max_iter' : [10, 100, 1000, 10000],\n",
    "    'fsm__C' : [0.0001, 0.001, 0.01, 0.1, 1],\n",
    "    'fsm__tol' : [0.0001,0.001,0.01,0.1],\n",
    "    'fsm__penalty' : ['l2','none'],\n",
    "    'fsm__class_weight' : [None,'balanced']\n",
    "}"
   ]
  },
  {
   "cell_type": "code",
   "execution_count": 36,
   "metadata": {},
   "outputs": [],
   "source": [
    "gs = GridSearchCV(\n",
    "    estimator = fsm_pipe,\n",
    "    param_grid = params,\n",
    "    cv = 5,\n",
    "    verbose = 1\n",
    ")"
   ]
  },
  {
   "cell_type": "markdown",
   "metadata": {},
   "source": [
    "In the following cells, I comment out the following cells to avoid running a multihour gridsearch when running the notebook. I recorded the results in markdowns below the cells."
   ]
  },
  {
   "cell_type": "code",
   "execution_count": 37,
   "metadata": {},
   "outputs": [],
   "source": [
    "#gs.fit(X_train, y_train)"
   ]
  },
  {
   "cell_type": "code",
   "execution_count": 38,
   "metadata": {},
   "outputs": [],
   "source": [
    "#gs.best_params_"
   ]
  },
  {
   "cell_type": "markdown",
   "metadata": {},
   "source": [
    "FSM BEST PARAMETERS:\n",
    "\n",
    "{'fsm__C': 1,\n",
    " 'fsm__class_weight': None,\n",
    " 'fsm__max_iter': 100,\n",
    " 'fsm__penalty': 'l2',\n",
    " 'fsm__tol': 0.0001}"
   ]
  },
  {
   "cell_type": "code",
   "execution_count": 39,
   "metadata": {
    "scrolled": true
   },
   "outputs": [],
   "source": [
    "#gs.best_estimator_"
   ]
  },
  {
   "cell_type": "markdown",
   "metadata": {},
   "source": [
    "FSM BEST ESTIMATORS\n",
    "\n",
    "Pipeline(steps=[('ct',\n",
    "                 ColumnTransformer(transformers=[('onehot',\n",
    "                                                  Pipeline(steps=[('cat_impute',\n",
    "                                                                   SimpleImputer(strategy='most_frequent')),\n",
    "                                                                  ('ohe',\n",
    "                                                                   OneHotEncoder(handle_unknown='ignore',\n",
    "                                                                                 sparse=False))]),\n",
    "                                                  ['household_adults',\n",
    "                                                   'household_children',\n",
    "                                                   'age_group', 'education',\n",
    "                                                   'race', 'sex',\n",
    "                                                   'income_poverty',\n",
    "                                                   'marital_status',\n",
    "                                                   'rent_or_own',\n",
    "                                                   'employment_status',\n",
    "                                                   'census...\n",
    "                                                                   SimpleImputer(strategy='most_frequent'))]),\n",
    "                                                  ['behavioral_antiviral_meds',\n",
    "                                                   'behavioral_avoidance',\n",
    "                                                   'behavioral_face_mask',\n",
    "                                                   'behavioral_wash_hands',\n",
    "                                                   'behavioral_large_gatherings',\n",
    "                                                   'behavioral_outside_home',\n",
    "                                                   'behavioral_touch_face',\n",
    "                                                   'doctor_recc_h1n1',\n",
    "                                                   'doctor_recc_seasonal',\n",
    "                                                   'chronic_med_condition',\n",
    "                                                   'child_under_6_months',\n",
    "                                                   'health_worker',\n",
    "                                                   'health_insurance'])])),\n",
    "                ('fsm', LogisticRegression(C=1))])"
   ]
  },
  {
   "cell_type": "code",
   "execution_count": 40,
   "metadata": {},
   "outputs": [],
   "source": [
    "fsm_optimized_pipe = Pipeline(steps=[\n",
    "    ('ct', CT),\n",
    "    ('fsm', LogisticRegression(C=1, max_iter=100, penalty='l2',tol=.0001))\n",
    "])"
   ]
  },
  {
   "cell_type": "code",
   "execution_count": 41,
   "metadata": {
    "scrolled": true
   },
   "outputs": [
    {
     "name": "stderr",
     "output_type": "stream",
     "text": [
      "C:\\Users\\Hendricks\\anaconda3\\envs\\learn-env\\lib\\site-packages\\sklearn\\linear_model\\_logistic.py:762: ConvergenceWarning: lbfgs failed to converge (status=1):\n",
      "STOP: TOTAL NO. of ITERATIONS REACHED LIMIT.\n",
      "\n",
      "Increase the number of iterations (max_iter) or scale the data as shown in:\n",
      "    https://scikit-learn.org/stable/modules/preprocessing.html\n",
      "Please also refer to the documentation for alternative solver options:\n",
      "    https://scikit-learn.org/stable/modules/linear_model.html#logistic-regression\n",
      "  n_iter_i = _check_optimize_result(\n"
     ]
    },
    {
     "data": {
      "text/plain": [
       "Pipeline(steps=[('ct',\n",
       "                 ColumnTransformer(transformers=[('onehot',\n",
       "                                                  Pipeline(steps=[('cat_impute',\n",
       "                                                                   SimpleImputer(strategy='most_frequent')),\n",
       "                                                                  ('ohe',\n",
       "                                                                   OneHotEncoder(handle_unknown='ignore',\n",
       "                                                                                 sparse=False))]),\n",
       "                                                  ['household_adults',\n",
       "                                                   'household_children',\n",
       "                                                   'age_group', 'education',\n",
       "                                                   'race', 'sex',\n",
       "                                                   'income_poverty',\n",
       "                                                   'marital_status',\n",
       "                                                   'rent_or_own',\n",
       "                                                   'employment_status',\n",
       "                                                   'census...\n",
       "                                                                   SimpleImputer(strategy='most_frequent'))]),\n",
       "                                                  ['behavioral_antiviral_meds',\n",
       "                                                   'behavioral_avoidance',\n",
       "                                                   'behavioral_face_mask',\n",
       "                                                   'behavioral_wash_hands',\n",
       "                                                   'behavioral_large_gatherings',\n",
       "                                                   'behavioral_outside_home',\n",
       "                                                   'behavioral_touch_face',\n",
       "                                                   'doctor_recc_h1n1',\n",
       "                                                   'doctor_recc_seasonal',\n",
       "                                                   'chronic_med_condition',\n",
       "                                                   'child_under_6_months',\n",
       "                                                   'health_worker',\n",
       "                                                   'health_insurance'])])),\n",
       "                ('fsm', LogisticRegression(C=1))])"
      ]
     },
     "execution_count": 41,
     "metadata": {},
     "output_type": "execute_result"
    }
   ],
   "source": [
    "fsm_optimized_pipe.fit(X_train, y_train)"
   ]
  },
  {
   "cell_type": "code",
   "execution_count": 42,
   "metadata": {
    "scrolled": true
   },
   "outputs": [
    {
     "name": "stdout",
     "output_type": "stream",
     "text": [
      "              precision    recall  f1-score   support\n",
      "\n",
      "           0       0.86      0.95      0.90      5260\n",
      "           1       0.71      0.43      0.53      1417\n",
      "\n",
      "    accuracy                           0.84      6677\n",
      "   macro avg       0.78      0.69      0.72      6677\n",
      "weighted avg       0.83      0.84      0.82      6677\n",
      "\n"
     ]
    }
   ],
   "source": [
    "print(classification_report(y_test, fsm_optimized_pipe.predict(X_test)))"
   ]
  },
  {
   "cell_type": "code",
   "execution_count": 43,
   "metadata": {
    "scrolled": true
   },
   "outputs": [
    {
     "data": {
      "image/png": "[encoded data removed]",
      "text/plain": [
       "<Figure size 432x288 with 2 Axes>"
      ]
     },
     "metadata": {
      "needs_background": "light"
     },
     "output_type": "display_data"
    }
   ],
   "source": [
    "plot_confusion_matrix(fsm_optimized_pipe, X_test, y_test);"
   ]
  },
  {
   "cell_type": "code",
   "execution_count": 44,
   "metadata": {
    "scrolled": true
   },
   "outputs": [
    {
     "data": {
      "image/png": "[encoded data removed]",
      "text/plain": [
       "<Figure size 432x288 with 1 Axes>"
      ]
     },
     "metadata": {
      "needs_background": "light"
     },
     "output_type": "display_data"
    }
   ],
   "source": [
    "plot_roc_curve(fsm_optimized_pipe, X_test, y_test);"
   ]
  },
  {
   "cell_type": "code",
   "execution_count": 45,
   "metadata": {},
   "outputs": [
    {
     "data": {
      "text/plain": [
       "0.38017038481218196"
      ]
     },
     "execution_count": 45,
     "metadata": {},
     "output_type": "execute_result"
    }
   ],
   "source": [
    "log_loss(y_test, fsm_optimized_pipe.predict_proba(X_test))"
   ]
  },
  {
   "cell_type": "markdown",
   "metadata": {},
   "source": [
    "Analysis: Using the tuned hyperparameters from the grid search did not alter the results of the first simple model in any significant way. In the following section, I create a second model that only uses the variables with the strongest coefficients to see if that can improve the results."
   ]
  },
  {
   "cell_type": "markdown",
   "metadata": {},
   "source": [
    "### 4.3 Second Model: Feature Selection"
   ]
  },
  {
   "cell_type": "markdown",
   "metadata": {},
   "source": [
    "For the second model, I use lasso regularization to determine which variables to include in and exclude from my model that incorporates feature selection. First, I get the feature names after one hot encoding and concatenate them with the binary column names to get a list of all the columns after going through the column transformer. Next, I use lasso regularization to find which coefficients drop to zero. I create a list of selected columns from the columns with non-zero values and then provide the second model with only those features."
   ]
  },
  {
   "cell_type": "markdown",
   "metadata": {},
   "source": [
    "I use the following code to get the column names out of the pipeline after OHE. While I wrote all of the code myself, I used Stack Overflow and ChatGPT to support my thought process."
   ]
  },
  {
   "cell_type": "code",
   "execution_count": 46,
   "metadata": {},
   "outputs": [],
   "source": [
    "CT1 = ColumnTransformer(transformers=[\n",
    "    ('ohe_impute', SimpleImputer(strategy='most_frequent'), ohecols),\n",
    "    ('ohe', onehot, ohecols),\n",
    "    ('bin_impute', SimpleImputer(strategy='most_frequent'), bincols)\n",
    "])"
   ]
  },
  {
   "cell_type": "code",
   "execution_count": 47,
   "metadata": {},
   "outputs": [
    {
     "data": {
      "text/plain": [
       "ColumnTransformer(transformers=[('ohe_impute',\n",
       "                                 SimpleImputer(strategy='most_frequent'),\n",
       "                                 ['household_adults', 'household_children',\n",
       "                                  'age_group', 'education', 'race', 'sex',\n",
       "                                  'income_poverty', 'marital_status',\n",
       "                                  'rent_or_own', 'employment_status',\n",
       "                                  'census_msa', 'h1n1_concern',\n",
       "                                  'h1n1_knowledge',\n",
       "                                  'opinion_h1n1_vacc_effective',\n",
       "                                  'opinion_h1n1_risk',\n",
       "                                  'opinion_h1n1_sick_from...\n",
       "                                ('bin_impute',\n",
       "                                 SimpleImputer(strategy='most_frequent'),\n",
       "                                 ['behavioral_antiviral_meds',\n",
       "                                  'behavioral_avoidance',\n",
       "                                  'behavioral_face_mask',\n",
       "                                  'behavioral_wash_hands',\n",
       "                                  'behavioral_large_gatherings',\n",
       "                                  'behavioral_outside_home',\n",
       "                                  'behavioral_touch_face', 'doctor_recc_h1n1',\n",
       "                                  'doctor_recc_seasonal',\n",
       "                                  'chronic_med_condition',\n",
       "                                  'child_under_6_months', 'health_worker',\n",
       "                                  'health_insurance'])])"
      ]
     },
     "execution_count": 47,
     "metadata": {},
     "output_type": "execute_result"
    }
   ],
   "source": [
    "X1 = X_train.dropna()\n",
    "CT1.fit(X1)"
   ]
  },
  {
   "cell_type": "code",
   "execution_count": 48,
   "metadata": {},
   "outputs": [],
   "source": [
    "categorical_feature_names = CT1.named_transformers_['ohe'].get_feature_names(input_features=ohecols)"
   ]
  },
  {
   "cell_type": "code",
   "execution_count": 49,
   "metadata": {
    "scrolled": true
   },
   "outputs": [
    {
     "data": {
      "text/plain": [
       "array(['household_adults_0.0', 'household_adults_1.0',\n",
       "       'household_adults_2.0', 'household_adults_3.0',\n",
       "       'household_children_0.0', 'household_children_1.0',\n",
       "       'household_children_2.0', 'household_children_3.0',\n",
       "       'age_group_18 - 34 Years', 'age_group_35 - 44 Years',\n",
       "       'age_group_45 - 54 Years', 'age_group_55 - 64 Years',\n",
       "       'age_group_65+ Years', 'education_12 Years',\n",
       "       'education_< 12 Years', 'education_College Graduate',\n",
       "       'education_Some College', 'race_Black', 'race_Hispanic',\n",
       "       'race_Other or Multiple', 'race_White', 'sex_Female', 'sex_Male',\n",
       "       'income_poverty_<= $75,000, Above Poverty',\n",
       "       'income_poverty_> $75,000', 'income_poverty_Below Poverty',\n",
       "       'marital_status_Married', 'marital_status_Not Married',\n",
       "       'rent_or_own_Own', 'rent_or_own_Rent',\n",
       "       'employment_status_Employed',\n",
       "       'employment_status_Not in Labor Force',\n",
       "       'employment_status_Unemployed',\n",
       "       'census_msa_MSA, Not Principle  City',\n",
       "       'census_msa_MSA, Principle City', 'census_msa_Non-MSA',\n",
       "       'h1n1_concern_0.0', 'h1n1_concern_1.0', 'h1n1_concern_2.0',\n",
       "       'h1n1_concern_3.0', 'h1n1_knowledge_0.0', 'h1n1_knowledge_1.0',\n",
       "       'h1n1_knowledge_2.0', 'opinion_h1n1_vacc_effective_1.0',\n",
       "       'opinion_h1n1_vacc_effective_2.0',\n",
       "       'opinion_h1n1_vacc_effective_3.0',\n",
       "       'opinion_h1n1_vacc_effective_4.0',\n",
       "       'opinion_h1n1_vacc_effective_5.0', 'opinion_h1n1_risk_1.0',\n",
       "       'opinion_h1n1_risk_2.0', 'opinion_h1n1_risk_3.0',\n",
       "       'opinion_h1n1_risk_4.0', 'opinion_h1n1_risk_5.0',\n",
       "       'opinion_h1n1_sick_from_vacc_1.0',\n",
       "       'opinion_h1n1_sick_from_vacc_2.0',\n",
       "       'opinion_h1n1_sick_from_vacc_3.0',\n",
       "       'opinion_h1n1_sick_from_vacc_4.0',\n",
       "       'opinion_h1n1_sick_from_vacc_5.0',\n",
       "       'opinion_seas_vacc_effective_1.0',\n",
       "       'opinion_seas_vacc_effective_2.0',\n",
       "       'opinion_seas_vacc_effective_3.0',\n",
       "       'opinion_seas_vacc_effective_4.0',\n",
       "       'opinion_seas_vacc_effective_5.0', 'opinion_seas_risk_1.0',\n",
       "       'opinion_seas_risk_2.0', 'opinion_seas_risk_3.0',\n",
       "       'opinion_seas_risk_4.0', 'opinion_seas_risk_5.0',\n",
       "       'opinion_seas_sick_from_vacc_1.0',\n",
       "       'opinion_seas_sick_from_vacc_2.0',\n",
       "       'opinion_seas_sick_from_vacc_3.0',\n",
       "       'opinion_seas_sick_from_vacc_4.0',\n",
       "       'opinion_seas_sick_from_vacc_5.0'], dtype=object)"
      ]
     },
     "execution_count": 49,
     "metadata": {},
     "output_type": "execute_result"
    }
   ],
   "source": [
    "categorical_feature_names"
   ]
  },
  {
   "cell_type": "markdown",
   "metadata": {},
   "source": [
    "I recorded this record of the feature names because they are essential to my subsequent analysis.\n",
    "\n",
    "['household_adults_0.0', 'household_adults_1.0',\n",
    "       'household_adults_2.0', 'household_adults_3.0',\n",
    "       'household_children_0.0', 'household_children_1.0',\n",
    "       'household_children_2.0', 'household_children_3.0',\n",
    "       'age_group_18 - 34 Years', 'age_group_35 - 44 Years',\n",
    "       'age_group_45 - 54 Years', 'age_group_55 - 64 Years',\n",
    "       'age_group_65+ Years', 'education_12 Years',\n",
    "       'education_< 12 Years', 'education_College Graduate',\n",
    "       'education_Some College', 'race_Black', 'race_Hispanic',\n",
    "       'race_Other or Multiple', 'race_White', 'sex_Female', 'sex_Male',\n",
    "       'income_poverty_<= $75,000, Above Poverty',\n",
    "       'income_poverty_> $75,000', 'income_poverty_Below Poverty',\n",
    "       'marital_status_Married', 'marital_status_Not Married',\n",
    "       'rent_or_own_Own', 'rent_or_own_Rent',\n",
    "       'employment_status_Employed',\n",
    "       'employment_status_Not in Labor Force',\n",
    "       'employment_status_Unemployed',\n",
    "       'census_msa_MSA, Not Principle  City',\n",
    "       'census_msa_MSA, Principle City', 'census_msa_Non-MSA',\n",
    "       'h1n1_concern_0.0', 'h1n1_concern_1.0', 'h1n1_concern_2.0',\n",
    "       'h1n1_concern_3.0', 'h1n1_knowledge_0.0', 'h1n1_knowledge_1.0',\n",
    "       'h1n1_knowledge_2.0', 'opinion_h1n1_vacc_effective_1.0',\n",
    "       'opinion_h1n1_vacc_effective_2.0',\n",
    "       'opinion_h1n1_vacc_effective_3.0',\n",
    "       'opinion_h1n1_vacc_effective_4.0',\n",
    "       'opinion_h1n1_vacc_effective_5.0', 'opinion_h1n1_risk_1.0',\n",
    "       'opinion_h1n1_risk_2.0', 'opinion_h1n1_risk_3.0',\n",
    "       'opinion_h1n1_risk_4.0', 'opinion_h1n1_risk_5.0',\n",
    "       'opinion_h1n1_sick_from_vacc_1.0',\n",
    "       'opinion_h1n1_sick_from_vacc_2.0',\n",
    "       'opinion_h1n1_sick_from_vacc_3.0',\n",
    "       'opinion_h1n1_sick_from_vacc_4.0',\n",
    "       'opinion_h1n1_sick_from_vacc_5.0',\n",
    "       'opinion_seas_vacc_effective_1.0',\n",
    "       'opinion_seas_vacc_effective_2.0',\n",
    "       'opinion_seas_vacc_effective_3.0',\n",
    "       'opinion_seas_vacc_effective_4.0',\n",
    "       'opinion_seas_vacc_effective_5.0', 'opinion_seas_risk_1.0',\n",
    "       'opinion_seas_risk_2.0', 'opinion_seas_risk_3.0',\n",
    "       'opinion_seas_risk_4.0', 'opinion_seas_risk_5.0',\n",
    "       'opinion_seas_sick_from_vacc_1.0',\n",
    "       'opinion_seas_sick_from_vacc_2.0',\n",
    "       'opinion_seas_sick_from_vacc_3.0',\n",
    "       'opinion_seas_sick_from_vacc_4.0',\n",
    "       'opinion_seas_sick_from_vacc_5.0']"
   ]
  },
  {
   "cell_type": "code",
   "execution_count": 50,
   "metadata": {},
   "outputs": [],
   "source": [
    "allcols = list(categorical_feature_names) + bincols"
   ]
  },
  {
   "cell_type": "code",
   "execution_count": 51,
   "metadata": {},
   "outputs": [],
   "source": [
    "lasso = LogisticRegression(penalty='l1', solver='liblinear')\n",
    "\n",
    "fsm_lasso_pipe = Pipeline(steps=[\n",
    "    ('ct', CT),\n",
    "    ('fsm', lasso)\n",
    "])"
   ]
  },
  {
   "cell_type": "code",
   "execution_count": 52,
   "metadata": {},
   "outputs": [
    {
     "data": {
      "text/plain": [
       "Pipeline(steps=[('ct',\n",
       "                 ColumnTransformer(transformers=[('onehot',\n",
       "                                                  Pipeline(steps=[('cat_impute',\n",
       "                                                                   SimpleImputer(strategy='most_frequent')),\n",
       "                                                                  ('ohe',\n",
       "                                                                   OneHotEncoder(handle_unknown='ignore',\n",
       "                                                                                 sparse=False))]),\n",
       "                                                  ['household_adults',\n",
       "                                                   'household_children',\n",
       "                                                   'age_group', 'education',\n",
       "                                                   'race', 'sex',\n",
       "                                                   'income_poverty',\n",
       "                                                   'marital_status',\n",
       "                                                   'rent_or_own',\n",
       "                                                   'employment_status',\n",
       "                                                   'census...\n",
       "                                                  ['behavioral_antiviral_meds',\n",
       "                                                   'behavioral_avoidance',\n",
       "                                                   'behavioral_face_mask',\n",
       "                                                   'behavioral_wash_hands',\n",
       "                                                   'behavioral_large_gatherings',\n",
       "                                                   'behavioral_outside_home',\n",
       "                                                   'behavioral_touch_face',\n",
       "                                                   'doctor_recc_h1n1',\n",
       "                                                   'doctor_recc_seasonal',\n",
       "                                                   'chronic_med_condition',\n",
       "                                                   'child_under_6_months',\n",
       "                                                   'health_worker',\n",
       "                                                   'health_insurance'])])),\n",
       "                ('fsm', LogisticRegression(penalty='l1', solver='liblinear'))])"
      ]
     },
     "execution_count": 52,
     "metadata": {},
     "output_type": "execute_result"
    }
   ],
   "source": [
    "fsm_lasso_pipe.fit(X_train, y_train)"
   ]
  },
  {
   "cell_type": "code",
   "execution_count": 53,
   "metadata": {},
   "outputs": [
    {
     "data": {
      "text/plain": [
       "[('opinion_h1n1_risk_1.0', -1.1556776160667415),\n",
       " ('opinion_h1n1_vacc_effective_2.0', -0.9247403046535362),\n",
       " ('opinion_h1n1_vacc_effective_1.0', -0.908799043571615),\n",
       " ('opinion_seas_risk_1.0', -0.709889028691951),\n",
       " ('opinion_h1n1_risk_2.0', -0.6725766640473344),\n",
       " ('opinion_h1n1_vacc_effective_3.0', -0.5287170861179212),\n",
       " ('opinion_seas_sick_from_vacc_3.0', -0.48245866242965973),\n",
       " ('opinion_seas_vacc_effective_1.0', -0.43141166629557565),\n",
       " ('doctor_recc_seasonal', -0.42182348650807183),\n",
       " ('opinion_h1n1_sick_from_vacc_3.0', -0.4189648892303692),\n",
       " ('opinion_h1n1_risk_3.0', -0.37487516803734466),\n",
       " ('opinion_seas_vacc_effective_2.0', -0.34949582023285874),\n",
       " ('opinion_seas_sick_from_vacc_5.0', -0.3257797719523687),\n",
       " ('age_group_35 - 44 Years', -0.3024807829779161),\n",
       " ('opinion_seas_risk_2.0', -0.2872098543688408),\n",
       " ('education_< 12 Years', -0.2862679910399195),\n",
       " ('race_Black', -0.280483671513691),\n",
       " ('age_group_45 - 54 Years', -0.2689160012680939),\n",
       " ('age_group_18 - 34 Years', -0.24498123111940634),\n",
       " ('h1n1_concern_3.0', -0.23774128198537164),\n",
       " ('behavioral_large_gatherings', -0.20918354572823125),\n",
       " ('sex_Female', -0.18620062699449827),\n",
       " ('h1n1_knowledge_1.0', -0.16185545119702704),\n",
       " ('marital_status_Not Married', -0.15483781583315517),\n",
       " ('h1n1_knowledge_0.0', -0.15081948656340688),\n",
       " ('opinion_h1n1_sick_from_vacc_2.0', -0.135784855377685),\n",
       " ('household_children_3.0', -0.12321730317946253),\n",
       " ('household_children_2.0', -0.10033152779063477),\n",
       " ('rent_or_own_Rent', -0.0960022140793861),\n",
       " ('census_msa_MSA, Not Principle  City', -0.08999618498506641),\n",
       " ('behavioral_outside_home', -0.08082376829196797),\n",
       " ('opinion_seas_vacc_effective_4.0', -0.07730749354999135),\n",
       " ('opinion_seas_risk_4.0', -0.07435741882760788),\n",
       " ('behavioral_avoidance', -0.06547879801061873),\n",
       " ('employment_status_Unemployed', -0.06064281947449503),\n",
       " ('h1n1_concern_2.0', -0.05843951735195207),\n",
       " ('education_12 Years', -0.048828112282185504),\n",
       " ('employment_status_Employed', -0.0485466463312414),\n",
       " ('household_adults_3.0', -0.04386672666096272),\n",
       " ('opinion_seas_sick_from_vacc_4.0', -0.0393198968761363),\n",
       " ('income_poverty_Below Poverty', -0.037926571583008446),\n",
       " ('income_poverty_<= $75,000, Above Poverty', -0.032353049151013794),\n",
       " ('race_White', -0.02296020851562421),\n",
       " ('household_adults_2.0', -0.019204018913813705),\n",
       " ('census_msa_Non-MSA', -0.007531273114434424),\n",
       " ('opinion_h1n1_sick_from_vacc_5.0', -0.003660437666855508),\n",
       " ('household_adults_0.0', 0.0),\n",
       " ('household_adults_1.0', 0.0),\n",
       " ('household_children_0.0', 0.0),\n",
       " ('age_group_55 - 64 Years', 0.0),\n",
       " ('education_Some College', 0.0),\n",
       " ('race_Hispanic', 0.0),\n",
       " ('sex_Male', 0.0),\n",
       " ('income_poverty_> $75,000', 0.0),\n",
       " ('marital_status_Married', 0.0),\n",
       " ('rent_or_own_Own', 0.0),\n",
       " ('employment_status_Not in Labor Force', 0.0),\n",
       " ('census_msa_MSA, Principle City', 0.0),\n",
       " ('h1n1_concern_1.0', 0.0),\n",
       " ('h1n1_knowledge_2.0', 0.0),\n",
       " ('opinion_h1n1_vacc_effective_4.0', 0.0),\n",
       " ('opinion_h1n1_risk_4.0', 0.0),\n",
       " ('opinion_h1n1_sick_from_vacc_4.0', 0.0),\n",
       " ('opinion_seas_vacc_effective_5.0', 0.0),\n",
       " ('opinion_seas_risk_3.0', 0.0),\n",
       " ('opinion_seas_sick_from_vacc_2.0', 0.0),\n",
       " ('behavioral_wash_hands', 0.016865244845532094),\n",
       " ('opinion_seas_risk_5.0', 0.03623592011578745),\n",
       " ('household_children_1.0', 0.05893964509790034),\n",
       " ('education_College Graduate', 0.0743844622103321),\n",
       " ('h1n1_concern_0.0', 0.07892261152013935),\n",
       " ('chronic_med_condition', 0.07960591880869414),\n",
       " ('behavioral_touch_face', 0.10727384740650234),\n",
       " ('health_insurance', 0.11172606351111206),\n",
       " ('opinion_h1n1_sick_from_vacc_1.0', 0.12404538668819694),\n",
       " ('race_Other or Multiple', 0.13968984223582653),\n",
       " ('opinion_seas_sick_from_vacc_1.0', 0.14721973357467202),\n",
       " ('age_group_65+ Years', 0.1828186505910168),\n",
       " ('behavioral_face_mask', 0.20115369085612014),\n",
       " ('behavioral_antiviral_meds', 0.20355964179561664),\n",
       " ('child_under_6_months', 0.21685095003821253),\n",
       " ('opinion_seas_vacc_effective_3.0', 0.2805863311985576),\n",
       " ('opinion_h1n1_risk_5.0', 0.2906318371987834),\n",
       " ('opinion_h1n1_vacc_effective_5.0', 0.810283285790982),\n",
       " ('health_worker', 0.8149415009867075),\n",
       " ('doctor_recc_h1n1', 1.9539431184106109)]"
      ]
     },
     "execution_count": 53,
     "metadata": {},
     "output_type": "execute_result"
    }
   ],
   "source": [
    "lassolist = list(zip(allcols,fsm_lasso_pipe.named_steps['fsm'].coef_[0]))\n",
    "sorted(lassolist, key=lambda x: x[1])"
   ]
  },
  {
   "cell_type": "markdown",
   "metadata": {},
   "source": [
    "Analysis: Using Lasso regularization dropped the coefficients of 20 variables to 0. I remove these variables for the second model."
   ]
  },
  {
   "cell_type": "code",
   "execution_count": 54,
   "metadata": {},
   "outputs": [],
   "source": [
    "# categorical_names = CT1.named_transformers_['ohe'].get_feature_names()"
   ]
  },
  {
   "cell_type": "code",
   "execution_count": 55,
   "metadata": {},
   "outputs": [],
   "source": [
    "# allcols2 = list(categorical_names) + bincols"
   ]
  },
  {
   "cell_type": "code",
   "execution_count": 56,
   "metadata": {},
   "outputs": [],
   "source": [
    "# lassolist2 = list(zip(allcols2,fsm_lasso_pipe.named_steps['fsm'].coef_[0]))\n",
    "# sorted(lassolist2, key=lambda x: x[1])"
   ]
  },
  {
   "cell_type": "code",
   "execution_count": 57,
   "metadata": {},
   "outputs": [],
   "source": [
    "# Code adapted from ChatGPT\n",
    "\n",
    "non_zero_coefficients = [var for var, coef in lassolist if coef != 0]"
   ]
  },
  {
   "cell_type": "code",
   "execution_count": 58,
   "metadata": {},
   "outputs": [
    {
     "data": {
      "text/plain": [
       "['household_adults_2.0',\n",
       " 'household_adults_3.0',\n",
       " 'household_children_1.0',\n",
       " 'household_children_2.0',\n",
       " 'household_children_3.0',\n",
       " 'age_group_18 - 34 Years',\n",
       " 'age_group_35 - 44 Years',\n",
       " 'age_group_45 - 54 Years',\n",
       " 'age_group_65+ Years',\n",
       " 'education_12 Years',\n",
       " 'education_< 12 Years',\n",
       " 'education_College Graduate',\n",
       " 'race_Black',\n",
       " 'race_Other or Multiple',\n",
       " 'race_White',\n",
       " 'sex_Female',\n",
       " 'income_poverty_<= $75,000, Above Poverty',\n",
       " 'income_poverty_Below Poverty',\n",
       " 'marital_status_Not Married',\n",
       " 'rent_or_own_Rent',\n",
       " 'employment_status_Employed',\n",
       " 'employment_status_Unemployed',\n",
       " 'census_msa_MSA, Not Principle  City',\n",
       " 'census_msa_Non-MSA',\n",
       " 'h1n1_concern_0.0',\n",
       " 'h1n1_concern_2.0',\n",
       " 'h1n1_concern_3.0',\n",
       " 'h1n1_knowledge_0.0',\n",
       " 'h1n1_knowledge_1.0',\n",
       " 'opinion_h1n1_vacc_effective_1.0',\n",
       " 'opinion_h1n1_vacc_effective_2.0',\n",
       " 'opinion_h1n1_vacc_effective_3.0',\n",
       " 'opinion_h1n1_vacc_effective_5.0',\n",
       " 'opinion_h1n1_risk_1.0',\n",
       " 'opinion_h1n1_risk_2.0',\n",
       " 'opinion_h1n1_risk_3.0',\n",
       " 'opinion_h1n1_risk_5.0',\n",
       " 'opinion_h1n1_sick_from_vacc_1.0',\n",
       " 'opinion_h1n1_sick_from_vacc_2.0',\n",
       " 'opinion_h1n1_sick_from_vacc_3.0',\n",
       " 'opinion_h1n1_sick_from_vacc_5.0',\n",
       " 'opinion_seas_vacc_effective_1.0',\n",
       " 'opinion_seas_vacc_effective_2.0',\n",
       " 'opinion_seas_vacc_effective_3.0',\n",
       " 'opinion_seas_vacc_effective_4.0',\n",
       " 'opinion_seas_risk_1.0',\n",
       " 'opinion_seas_risk_2.0',\n",
       " 'opinion_seas_risk_4.0',\n",
       " 'opinion_seas_risk_5.0',\n",
       " 'opinion_seas_sick_from_vacc_1.0',\n",
       " 'opinion_seas_sick_from_vacc_3.0',\n",
       " 'opinion_seas_sick_from_vacc_4.0',\n",
       " 'opinion_seas_sick_from_vacc_5.0',\n",
       " 'behavioral_antiviral_meds',\n",
       " 'behavioral_avoidance',\n",
       " 'behavioral_face_mask',\n",
       " 'behavioral_wash_hands',\n",
       " 'behavioral_large_gatherings',\n",
       " 'behavioral_outside_home',\n",
       " 'behavioral_touch_face',\n",
       " 'doctor_recc_h1n1',\n",
       " 'doctor_recc_seasonal',\n",
       " 'chronic_med_condition',\n",
       " 'child_under_6_months',\n",
       " 'health_worker',\n",
       " 'health_insurance']"
      ]
     },
     "execution_count": 58,
     "metadata": {},
     "output_type": "execute_result"
    }
   ],
   "source": [
    "non_zero_coefficients"
   ]
  },
  {
   "cell_type": "code",
   "execution_count": 59,
   "metadata": {},
   "outputs": [
    {
     "data": {
      "text/plain": [
       "(20030, 32)"
      ]
     },
     "execution_count": 59,
     "metadata": {},
     "output_type": "execute_result"
    }
   ],
   "source": [
    "X_train.shape"
   ]
  },
  {
   "cell_type": "code",
   "execution_count": 60,
   "metadata": {},
   "outputs": [
    {
     "data": {
      "text/html": [
       "<div>\n",
       "<style scoped>\n",
       "    .dataframe tbody tr th:only-of-type {\n",
       "        vertical-align: middle;\n",
       "    }\n",
       "\n",
       "    .dataframe tbody tr th {\n",
       "        vertical-align: top;\n",
       "    }\n",
       "\n",
       "    .dataframe thead th {\n",
       "        text-align: right;\n",
       "    }\n",
       "</style>\n",
       "<table border=\"1\" class=\"dataframe\">\n",
       "  <thead>\n",
       "    <tr style=\"text-align: right;\">\n",
       "      <th></th>\n",
       "      <th>household_adults_0.0</th>\n",
       "      <th>household_adults_1.0</th>\n",
       "      <th>household_adults_2.0</th>\n",
       "      <th>household_adults_3.0</th>\n",
       "      <th>household_children_0.0</th>\n",
       "      <th>household_children_1.0</th>\n",
       "      <th>household_children_2.0</th>\n",
       "      <th>household_children_3.0</th>\n",
       "      <th>age_group_18 - 34 Years</th>\n",
       "      <th>age_group_35 - 44 Years</th>\n",
       "      <th>...</th>\n",
       "      <th>behavioral_wash_hands</th>\n",
       "      <th>behavioral_large_gatherings</th>\n",
       "      <th>behavioral_outside_home</th>\n",
       "      <th>behavioral_touch_face</th>\n",
       "      <th>doctor_recc_h1n1</th>\n",
       "      <th>doctor_recc_seasonal</th>\n",
       "      <th>chronic_med_condition</th>\n",
       "      <th>child_under_6_months</th>\n",
       "      <th>health_worker</th>\n",
       "      <th>health_insurance</th>\n",
       "    </tr>\n",
       "  </thead>\n",
       "  <tbody>\n",
       "    <tr>\n",
       "      <th>0</th>\n",
       "      <td>0.0</td>\n",
       "      <td>1.0</td>\n",
       "      <td>0.0</td>\n",
       "      <td>0.0</td>\n",
       "      <td>0.0</td>\n",
       "      <td>1.0</td>\n",
       "      <td>0.0</td>\n",
       "      <td>0.0</td>\n",
       "      <td>1.0</td>\n",
       "      <td>0.0</td>\n",
       "      <td>...</td>\n",
       "      <td>0.0</td>\n",
       "      <td>0.0</td>\n",
       "      <td>0.0</td>\n",
       "      <td>0.0</td>\n",
       "      <td>0.0</td>\n",
       "      <td>0.0</td>\n",
       "      <td>0.0</td>\n",
       "      <td>0.0</td>\n",
       "      <td>0.0</td>\n",
       "      <td>1.0</td>\n",
       "    </tr>\n",
       "    <tr>\n",
       "      <th>1</th>\n",
       "      <td>0.0</td>\n",
       "      <td>0.0</td>\n",
       "      <td>1.0</td>\n",
       "      <td>0.0</td>\n",
       "      <td>0.0</td>\n",
       "      <td>1.0</td>\n",
       "      <td>0.0</td>\n",
       "      <td>0.0</td>\n",
       "      <td>0.0</td>\n",
       "      <td>0.0</td>\n",
       "      <td>...</td>\n",
       "      <td>1.0</td>\n",
       "      <td>0.0</td>\n",
       "      <td>0.0</td>\n",
       "      <td>0.0</td>\n",
       "      <td>0.0</td>\n",
       "      <td>1.0</td>\n",
       "      <td>1.0</td>\n",
       "      <td>1.0</td>\n",
       "      <td>0.0</td>\n",
       "      <td>1.0</td>\n",
       "    </tr>\n",
       "    <tr>\n",
       "      <th>2</th>\n",
       "      <td>1.0</td>\n",
       "      <td>0.0</td>\n",
       "      <td>0.0</td>\n",
       "      <td>0.0</td>\n",
       "      <td>0.0</td>\n",
       "      <td>1.0</td>\n",
       "      <td>0.0</td>\n",
       "      <td>0.0</td>\n",
       "      <td>0.0</td>\n",
       "      <td>0.0</td>\n",
       "      <td>...</td>\n",
       "      <td>0.0</td>\n",
       "      <td>0.0</td>\n",
       "      <td>0.0</td>\n",
       "      <td>0.0</td>\n",
       "      <td>0.0</td>\n",
       "      <td>0.0</td>\n",
       "      <td>0.0</td>\n",
       "      <td>0.0</td>\n",
       "      <td>0.0</td>\n",
       "      <td>1.0</td>\n",
       "    </tr>\n",
       "    <tr>\n",
       "      <th>3</th>\n",
       "      <td>1.0</td>\n",
       "      <td>0.0</td>\n",
       "      <td>0.0</td>\n",
       "      <td>0.0</td>\n",
       "      <td>1.0</td>\n",
       "      <td>0.0</td>\n",
       "      <td>0.0</td>\n",
       "      <td>0.0</td>\n",
       "      <td>0.0</td>\n",
       "      <td>0.0</td>\n",
       "      <td>...</td>\n",
       "      <td>0.0</td>\n",
       "      <td>0.0</td>\n",
       "      <td>0.0</td>\n",
       "      <td>0.0</td>\n",
       "      <td>0.0</td>\n",
       "      <td>0.0</td>\n",
       "      <td>1.0</td>\n",
       "      <td>0.0</td>\n",
       "      <td>0.0</td>\n",
       "      <td>1.0</td>\n",
       "    </tr>\n",
       "    <tr>\n",
       "      <th>4</th>\n",
       "      <td>0.0</td>\n",
       "      <td>1.0</td>\n",
       "      <td>0.0</td>\n",
       "      <td>0.0</td>\n",
       "      <td>1.0</td>\n",
       "      <td>0.0</td>\n",
       "      <td>0.0</td>\n",
       "      <td>0.0</td>\n",
       "      <td>1.0</td>\n",
       "      <td>0.0</td>\n",
       "      <td>...</td>\n",
       "      <td>1.0</td>\n",
       "      <td>1.0</td>\n",
       "      <td>1.0</td>\n",
       "      <td>1.0</td>\n",
       "      <td>1.0</td>\n",
       "      <td>1.0</td>\n",
       "      <td>0.0</td>\n",
       "      <td>0.0</td>\n",
       "      <td>0.0</td>\n",
       "      <td>1.0</td>\n",
       "    </tr>\n",
       "    <tr>\n",
       "      <th>...</th>\n",
       "      <td>...</td>\n",
       "      <td>...</td>\n",
       "      <td>...</td>\n",
       "      <td>...</td>\n",
       "      <td>...</td>\n",
       "      <td>...</td>\n",
       "      <td>...</td>\n",
       "      <td>...</td>\n",
       "      <td>...</td>\n",
       "      <td>...</td>\n",
       "      <td>...</td>\n",
       "      <td>...</td>\n",
       "      <td>...</td>\n",
       "      <td>...</td>\n",
       "      <td>...</td>\n",
       "      <td>...</td>\n",
       "      <td>...</td>\n",
       "      <td>...</td>\n",
       "      <td>...</td>\n",
       "      <td>...</td>\n",
       "      <td>...</td>\n",
       "    </tr>\n",
       "    <tr>\n",
       "      <th>20025</th>\n",
       "      <td>1.0</td>\n",
       "      <td>0.0</td>\n",
       "      <td>0.0</td>\n",
       "      <td>0.0</td>\n",
       "      <td>1.0</td>\n",
       "      <td>0.0</td>\n",
       "      <td>0.0</td>\n",
       "      <td>0.0</td>\n",
       "      <td>0.0</td>\n",
       "      <td>0.0</td>\n",
       "      <td>...</td>\n",
       "      <td>1.0</td>\n",
       "      <td>0.0</td>\n",
       "      <td>0.0</td>\n",
       "      <td>1.0</td>\n",
       "      <td>0.0</td>\n",
       "      <td>0.0</td>\n",
       "      <td>0.0</td>\n",
       "      <td>0.0</td>\n",
       "      <td>0.0</td>\n",
       "      <td>1.0</td>\n",
       "    </tr>\n",
       "    <tr>\n",
       "      <th>20026</th>\n",
       "      <td>1.0</td>\n",
       "      <td>0.0</td>\n",
       "      <td>0.0</td>\n",
       "      <td>0.0</td>\n",
       "      <td>1.0</td>\n",
       "      <td>0.0</td>\n",
       "      <td>0.0</td>\n",
       "      <td>0.0</td>\n",
       "      <td>0.0</td>\n",
       "      <td>0.0</td>\n",
       "      <td>...</td>\n",
       "      <td>1.0</td>\n",
       "      <td>0.0</td>\n",
       "      <td>0.0</td>\n",
       "      <td>1.0</td>\n",
       "      <td>0.0</td>\n",
       "      <td>0.0</td>\n",
       "      <td>0.0</td>\n",
       "      <td>0.0</td>\n",
       "      <td>0.0</td>\n",
       "      <td>1.0</td>\n",
       "    </tr>\n",
       "    <tr>\n",
       "      <th>20027</th>\n",
       "      <td>0.0</td>\n",
       "      <td>1.0</td>\n",
       "      <td>0.0</td>\n",
       "      <td>0.0</td>\n",
       "      <td>1.0</td>\n",
       "      <td>0.0</td>\n",
       "      <td>0.0</td>\n",
       "      <td>0.0</td>\n",
       "      <td>0.0</td>\n",
       "      <td>0.0</td>\n",
       "      <td>...</td>\n",
       "      <td>0.0</td>\n",
       "      <td>0.0</td>\n",
       "      <td>0.0</td>\n",
       "      <td>1.0</td>\n",
       "      <td>0.0</td>\n",
       "      <td>0.0</td>\n",
       "      <td>0.0</td>\n",
       "      <td>0.0</td>\n",
       "      <td>0.0</td>\n",
       "      <td>1.0</td>\n",
       "    </tr>\n",
       "    <tr>\n",
       "      <th>20028</th>\n",
       "      <td>0.0</td>\n",
       "      <td>1.0</td>\n",
       "      <td>0.0</td>\n",
       "      <td>0.0</td>\n",
       "      <td>1.0</td>\n",
       "      <td>0.0</td>\n",
       "      <td>0.0</td>\n",
       "      <td>0.0</td>\n",
       "      <td>0.0</td>\n",
       "      <td>1.0</td>\n",
       "      <td>...</td>\n",
       "      <td>1.0</td>\n",
       "      <td>0.0</td>\n",
       "      <td>0.0</td>\n",
       "      <td>1.0</td>\n",
       "      <td>1.0</td>\n",
       "      <td>1.0</td>\n",
       "      <td>1.0</td>\n",
       "      <td>0.0</td>\n",
       "      <td>1.0</td>\n",
       "      <td>1.0</td>\n",
       "    </tr>\n",
       "    <tr>\n",
       "      <th>20029</th>\n",
       "      <td>1.0</td>\n",
       "      <td>0.0</td>\n",
       "      <td>0.0</td>\n",
       "      <td>0.0</td>\n",
       "      <td>1.0</td>\n",
       "      <td>0.0</td>\n",
       "      <td>0.0</td>\n",
       "      <td>0.0</td>\n",
       "      <td>1.0</td>\n",
       "      <td>0.0</td>\n",
       "      <td>...</td>\n",
       "      <td>1.0</td>\n",
       "      <td>0.0</td>\n",
       "      <td>1.0</td>\n",
       "      <td>1.0</td>\n",
       "      <td>0.0</td>\n",
       "      <td>0.0</td>\n",
       "      <td>0.0</td>\n",
       "      <td>0.0</td>\n",
       "      <td>0.0</td>\n",
       "      <td>1.0</td>\n",
       "    </tr>\n",
       "  </tbody>\n",
       "</table>\n",
       "<p>20030 rows × 86 columns</p>\n",
       "</div>"
      ],
      "text/plain": [
       "       household_adults_0.0  household_adults_1.0  household_adults_2.0  \\\n",
       "0                       0.0                   1.0                   0.0   \n",
       "1                       0.0                   0.0                   1.0   \n",
       "2                       1.0                   0.0                   0.0   \n",
       "3                       1.0                   0.0                   0.0   \n",
       "4                       0.0                   1.0                   0.0   \n",
       "...                     ...                   ...                   ...   \n",
       "20025                   1.0                   0.0                   0.0   \n",
       "20026                   1.0                   0.0                   0.0   \n",
       "20027                   0.0                   1.0                   0.0   \n",
       "20028                   0.0                   1.0                   0.0   \n",
       "20029                   1.0                   0.0                   0.0   \n",
       "\n",
       "       household_adults_3.0  household_children_0.0  household_children_1.0  \\\n",
       "0                       0.0                     0.0                     1.0   \n",
       "1                       0.0                     0.0                     1.0   \n",
       "2                       0.0                     0.0                     1.0   \n",
       "3                       0.0                     1.0                     0.0   \n",
       "4                       0.0                     1.0                     0.0   \n",
       "...                     ...                     ...                     ...   \n",
       "20025                   0.0                     1.0                     0.0   \n",
       "20026                   0.0                     1.0                     0.0   \n",
       "20027                   0.0                     1.0                     0.0   \n",
       "20028                   0.0                     1.0                     0.0   \n",
       "20029                   0.0                     1.0                     0.0   \n",
       "\n",
       "       household_children_2.0  household_children_3.0  \\\n",
       "0                         0.0                     0.0   \n",
       "1                         0.0                     0.0   \n",
       "2                         0.0                     0.0   \n",
       "3                         0.0                     0.0   \n",
       "4                         0.0                     0.0   \n",
       "...                       ...                     ...   \n",
       "20025                     0.0                     0.0   \n",
       "20026                     0.0                     0.0   \n",
       "20027                     0.0                     0.0   \n",
       "20028                     0.0                     0.0   \n",
       "20029                     0.0                     0.0   \n",
       "\n",
       "       age_group_18 - 34 Years  age_group_35 - 44 Years  ...  \\\n",
       "0                          1.0                      0.0  ...   \n",
       "1                          0.0                      0.0  ...   \n",
       "2                          0.0                      0.0  ...   \n",
       "3                          0.0                      0.0  ...   \n",
       "4                          1.0                      0.0  ...   \n",
       "...                        ...                      ...  ...   \n",
       "20025                      0.0                      0.0  ...   \n",
       "20026                      0.0                      0.0  ...   \n",
       "20027                      0.0                      0.0  ...   \n",
       "20028                      0.0                      1.0  ...   \n",
       "20029                      1.0                      0.0  ...   \n",
       "\n",
       "       behavioral_wash_hands  behavioral_large_gatherings  \\\n",
       "0                        0.0                          0.0   \n",
       "1                        1.0                          0.0   \n",
       "2                        0.0                          0.0   \n",
       "3                        0.0                          0.0   \n",
       "4                        1.0                          1.0   \n",
       "...                      ...                          ...   \n",
       "20025                    1.0                          0.0   \n",
       "20026                    1.0                          0.0   \n",
       "20027                    0.0                          0.0   \n",
       "20028                    1.0                          0.0   \n",
       "20029                    1.0                          0.0   \n",
       "\n",
       "       behavioral_outside_home  behavioral_touch_face  doctor_recc_h1n1  \\\n",
       "0                          0.0                    0.0               0.0   \n",
       "1                          0.0                    0.0               0.0   \n",
       "2                          0.0                    0.0               0.0   \n",
       "3                          0.0                    0.0               0.0   \n",
       "4                          1.0                    1.0               1.0   \n",
       "...                        ...                    ...               ...   \n",
       "20025                      0.0                    1.0               0.0   \n",
       "20026                      0.0                    1.0               0.0   \n",
       "20027                      0.0                    1.0               0.0   \n",
       "20028                      0.0                    1.0               1.0   \n",
       "20029                      1.0                    1.0               0.0   \n",
       "\n",
       "       doctor_recc_seasonal  chronic_med_condition  child_under_6_months  \\\n",
       "0                       0.0                    0.0                   0.0   \n",
       "1                       1.0                    1.0                   1.0   \n",
       "2                       0.0                    0.0                   0.0   \n",
       "3                       0.0                    1.0                   0.0   \n",
       "4                       1.0                    0.0                   0.0   \n",
       "...                     ...                    ...                   ...   \n",
       "20025                   0.0                    0.0                   0.0   \n",
       "20026                   0.0                    0.0                   0.0   \n",
       "20027                   0.0                    0.0                   0.0   \n",
       "20028                   1.0                    1.0                   0.0   \n",
       "20029                   0.0                    0.0                   0.0   \n",
       "\n",
       "       health_worker  health_insurance  \n",
       "0                0.0               1.0  \n",
       "1                0.0               1.0  \n",
       "2                0.0               1.0  \n",
       "3                0.0               1.0  \n",
       "4                0.0               1.0  \n",
       "...              ...               ...  \n",
       "20025            0.0               1.0  \n",
       "20026            0.0               1.0  \n",
       "20027            0.0               1.0  \n",
       "20028            1.0               1.0  \n",
       "20029            0.0               1.0  \n",
       "\n",
       "[20030 rows x 86 columns]"
      ]
     },
     "execution_count": 60,
     "metadata": {},
     "output_type": "execute_result"
    }
   ],
   "source": [
    "X_train_encoded = CT.fit_transform(X_train)\n",
    "X_train_encoded_df = pd.DataFrame(X_train_encoded, columns=allcols)\n",
    "X_train_encoded_df"
   ]
  },
  {
   "cell_type": "code",
   "execution_count": 61,
   "metadata": {},
   "outputs": [
    {
     "data": {
      "text/plain": [
       "(6677, 32)"
      ]
     },
     "execution_count": 61,
     "metadata": {},
     "output_type": "execute_result"
    }
   ],
   "source": [
    "X_test.shape"
   ]
  },
  {
   "cell_type": "code",
   "execution_count": 62,
   "metadata": {},
   "outputs": [
    {
     "data": {
      "text/html": [
       "<div>\n",
       "<style scoped>\n",
       "    .dataframe tbody tr th:only-of-type {\n",
       "        vertical-align: middle;\n",
       "    }\n",
       "\n",
       "    .dataframe tbody tr th {\n",
       "        vertical-align: top;\n",
       "    }\n",
       "\n",
       "    .dataframe thead th {\n",
       "        text-align: right;\n",
       "    }\n",
       "</style>\n",
       "<table border=\"1\" class=\"dataframe\">\n",
       "  <thead>\n",
       "    <tr style=\"text-align: right;\">\n",
       "      <th></th>\n",
       "      <th>household_adults_0.0</th>\n",
       "      <th>household_adults_1.0</th>\n",
       "      <th>household_adults_2.0</th>\n",
       "      <th>household_adults_3.0</th>\n",
       "      <th>household_children_0.0</th>\n",
       "      <th>household_children_1.0</th>\n",
       "      <th>household_children_2.0</th>\n",
       "      <th>household_children_3.0</th>\n",
       "      <th>age_group_18 - 34 Years</th>\n",
       "      <th>age_group_35 - 44 Years</th>\n",
       "      <th>...</th>\n",
       "      <th>behavioral_wash_hands</th>\n",
       "      <th>behavioral_large_gatherings</th>\n",
       "      <th>behavioral_outside_home</th>\n",
       "      <th>behavioral_touch_face</th>\n",
       "      <th>doctor_recc_h1n1</th>\n",
       "      <th>doctor_recc_seasonal</th>\n",
       "      <th>chronic_med_condition</th>\n",
       "      <th>child_under_6_months</th>\n",
       "      <th>health_worker</th>\n",
       "      <th>health_insurance</th>\n",
       "    </tr>\n",
       "  </thead>\n",
       "  <tbody>\n",
       "    <tr>\n",
       "      <th>0</th>\n",
       "      <td>0.0</td>\n",
       "      <td>1.0</td>\n",
       "      <td>0.0</td>\n",
       "      <td>0.0</td>\n",
       "      <td>1.0</td>\n",
       "      <td>0.0</td>\n",
       "      <td>0.0</td>\n",
       "      <td>0.0</td>\n",
       "      <td>1.0</td>\n",
       "      <td>0.0</td>\n",
       "      <td>...</td>\n",
       "      <td>1.0</td>\n",
       "      <td>1.0</td>\n",
       "      <td>1.0</td>\n",
       "      <td>1.0</td>\n",
       "      <td>0.0</td>\n",
       "      <td>0.0</td>\n",
       "      <td>0.0</td>\n",
       "      <td>0.0</td>\n",
       "      <td>0.0</td>\n",
       "      <td>1.0</td>\n",
       "    </tr>\n",
       "    <tr>\n",
       "      <th>1</th>\n",
       "      <td>0.0</td>\n",
       "      <td>1.0</td>\n",
       "      <td>0.0</td>\n",
       "      <td>0.0</td>\n",
       "      <td>0.0</td>\n",
       "      <td>1.0</td>\n",
       "      <td>0.0</td>\n",
       "      <td>0.0</td>\n",
       "      <td>0.0</td>\n",
       "      <td>1.0</td>\n",
       "      <td>...</td>\n",
       "      <td>1.0</td>\n",
       "      <td>1.0</td>\n",
       "      <td>1.0</td>\n",
       "      <td>0.0</td>\n",
       "      <td>0.0</td>\n",
       "      <td>0.0</td>\n",
       "      <td>0.0</td>\n",
       "      <td>0.0</td>\n",
       "      <td>0.0</td>\n",
       "      <td>1.0</td>\n",
       "    </tr>\n",
       "    <tr>\n",
       "      <th>2</th>\n",
       "      <td>1.0</td>\n",
       "      <td>0.0</td>\n",
       "      <td>0.0</td>\n",
       "      <td>0.0</td>\n",
       "      <td>0.0</td>\n",
       "      <td>1.0</td>\n",
       "      <td>0.0</td>\n",
       "      <td>0.0</td>\n",
       "      <td>0.0</td>\n",
       "      <td>0.0</td>\n",
       "      <td>...</td>\n",
       "      <td>1.0</td>\n",
       "      <td>1.0</td>\n",
       "      <td>1.0</td>\n",
       "      <td>1.0</td>\n",
       "      <td>0.0</td>\n",
       "      <td>1.0</td>\n",
       "      <td>0.0</td>\n",
       "      <td>0.0</td>\n",
       "      <td>0.0</td>\n",
       "      <td>1.0</td>\n",
       "    </tr>\n",
       "    <tr>\n",
       "      <th>3</th>\n",
       "      <td>0.0</td>\n",
       "      <td>1.0</td>\n",
       "      <td>0.0</td>\n",
       "      <td>0.0</td>\n",
       "      <td>0.0</td>\n",
       "      <td>0.0</td>\n",
       "      <td>1.0</td>\n",
       "      <td>0.0</td>\n",
       "      <td>0.0</td>\n",
       "      <td>1.0</td>\n",
       "      <td>...</td>\n",
       "      <td>1.0</td>\n",
       "      <td>0.0</td>\n",
       "      <td>0.0</td>\n",
       "      <td>0.0</td>\n",
       "      <td>0.0</td>\n",
       "      <td>0.0</td>\n",
       "      <td>0.0</td>\n",
       "      <td>0.0</td>\n",
       "      <td>0.0</td>\n",
       "      <td>1.0</td>\n",
       "    </tr>\n",
       "    <tr>\n",
       "      <th>4</th>\n",
       "      <td>0.0</td>\n",
       "      <td>1.0</td>\n",
       "      <td>0.0</td>\n",
       "      <td>0.0</td>\n",
       "      <td>1.0</td>\n",
       "      <td>0.0</td>\n",
       "      <td>0.0</td>\n",
       "      <td>0.0</td>\n",
       "      <td>0.0</td>\n",
       "      <td>0.0</td>\n",
       "      <td>...</td>\n",
       "      <td>1.0</td>\n",
       "      <td>1.0</td>\n",
       "      <td>0.0</td>\n",
       "      <td>1.0</td>\n",
       "      <td>0.0</td>\n",
       "      <td>0.0</td>\n",
       "      <td>0.0</td>\n",
       "      <td>1.0</td>\n",
       "      <td>0.0</td>\n",
       "      <td>1.0</td>\n",
       "    </tr>\n",
       "    <tr>\n",
       "      <th>...</th>\n",
       "      <td>...</td>\n",
       "      <td>...</td>\n",
       "      <td>...</td>\n",
       "      <td>...</td>\n",
       "      <td>...</td>\n",
       "      <td>...</td>\n",
       "      <td>...</td>\n",
       "      <td>...</td>\n",
       "      <td>...</td>\n",
       "      <td>...</td>\n",
       "      <td>...</td>\n",
       "      <td>...</td>\n",
       "      <td>...</td>\n",
       "      <td>...</td>\n",
       "      <td>...</td>\n",
       "      <td>...</td>\n",
       "      <td>...</td>\n",
       "      <td>...</td>\n",
       "      <td>...</td>\n",
       "      <td>...</td>\n",
       "      <td>...</td>\n",
       "    </tr>\n",
       "    <tr>\n",
       "      <th>6672</th>\n",
       "      <td>0.0</td>\n",
       "      <td>1.0</td>\n",
       "      <td>0.0</td>\n",
       "      <td>0.0</td>\n",
       "      <td>1.0</td>\n",
       "      <td>0.0</td>\n",
       "      <td>0.0</td>\n",
       "      <td>0.0</td>\n",
       "      <td>0.0</td>\n",
       "      <td>0.0</td>\n",
       "      <td>...</td>\n",
       "      <td>0.0</td>\n",
       "      <td>0.0</td>\n",
       "      <td>0.0</td>\n",
       "      <td>0.0</td>\n",
       "      <td>0.0</td>\n",
       "      <td>0.0</td>\n",
       "      <td>1.0</td>\n",
       "      <td>0.0</td>\n",
       "      <td>0.0</td>\n",
       "      <td>1.0</td>\n",
       "    </tr>\n",
       "    <tr>\n",
       "      <th>6673</th>\n",
       "      <td>0.0</td>\n",
       "      <td>1.0</td>\n",
       "      <td>0.0</td>\n",
       "      <td>0.0</td>\n",
       "      <td>1.0</td>\n",
       "      <td>0.0</td>\n",
       "      <td>0.0</td>\n",
       "      <td>0.0</td>\n",
       "      <td>0.0</td>\n",
       "      <td>0.0</td>\n",
       "      <td>...</td>\n",
       "      <td>1.0</td>\n",
       "      <td>0.0</td>\n",
       "      <td>0.0</td>\n",
       "      <td>1.0</td>\n",
       "      <td>0.0</td>\n",
       "      <td>0.0</td>\n",
       "      <td>0.0</td>\n",
       "      <td>0.0</td>\n",
       "      <td>0.0</td>\n",
       "      <td>1.0</td>\n",
       "    </tr>\n",
       "    <tr>\n",
       "      <th>6674</th>\n",
       "      <td>0.0</td>\n",
       "      <td>1.0</td>\n",
       "      <td>0.0</td>\n",
       "      <td>0.0</td>\n",
       "      <td>1.0</td>\n",
       "      <td>0.0</td>\n",
       "      <td>0.0</td>\n",
       "      <td>0.0</td>\n",
       "      <td>0.0</td>\n",
       "      <td>0.0</td>\n",
       "      <td>...</td>\n",
       "      <td>1.0</td>\n",
       "      <td>0.0</td>\n",
       "      <td>0.0</td>\n",
       "      <td>0.0</td>\n",
       "      <td>1.0</td>\n",
       "      <td>1.0</td>\n",
       "      <td>0.0</td>\n",
       "      <td>0.0</td>\n",
       "      <td>0.0</td>\n",
       "      <td>1.0</td>\n",
       "    </tr>\n",
       "    <tr>\n",
       "      <th>6675</th>\n",
       "      <td>0.0</td>\n",
       "      <td>1.0</td>\n",
       "      <td>0.0</td>\n",
       "      <td>0.0</td>\n",
       "      <td>0.0</td>\n",
       "      <td>1.0</td>\n",
       "      <td>0.0</td>\n",
       "      <td>0.0</td>\n",
       "      <td>0.0</td>\n",
       "      <td>0.0</td>\n",
       "      <td>...</td>\n",
       "      <td>1.0</td>\n",
       "      <td>0.0</td>\n",
       "      <td>0.0</td>\n",
       "      <td>1.0</td>\n",
       "      <td>0.0</td>\n",
       "      <td>0.0</td>\n",
       "      <td>0.0</td>\n",
       "      <td>0.0</td>\n",
       "      <td>0.0</td>\n",
       "      <td>1.0</td>\n",
       "    </tr>\n",
       "    <tr>\n",
       "      <th>6676</th>\n",
       "      <td>0.0</td>\n",
       "      <td>1.0</td>\n",
       "      <td>0.0</td>\n",
       "      <td>0.0</td>\n",
       "      <td>0.0</td>\n",
       "      <td>1.0</td>\n",
       "      <td>0.0</td>\n",
       "      <td>0.0</td>\n",
       "      <td>0.0</td>\n",
       "      <td>1.0</td>\n",
       "      <td>...</td>\n",
       "      <td>1.0</td>\n",
       "      <td>1.0</td>\n",
       "      <td>0.0</td>\n",
       "      <td>0.0</td>\n",
       "      <td>0.0</td>\n",
       "      <td>1.0</td>\n",
       "      <td>0.0</td>\n",
       "      <td>0.0</td>\n",
       "      <td>0.0</td>\n",
       "      <td>1.0</td>\n",
       "    </tr>\n",
       "  </tbody>\n",
       "</table>\n",
       "<p>6677 rows × 86 columns</p>\n",
       "</div>"
      ],
      "text/plain": [
       "      household_adults_0.0  household_adults_1.0  household_adults_2.0  \\\n",
       "0                      0.0                   1.0                   0.0   \n",
       "1                      0.0                   1.0                   0.0   \n",
       "2                      1.0                   0.0                   0.0   \n",
       "3                      0.0                   1.0                   0.0   \n",
       "4                      0.0                   1.0                   0.0   \n",
       "...                    ...                   ...                   ...   \n",
       "6672                   0.0                   1.0                   0.0   \n",
       "6673                   0.0                   1.0                   0.0   \n",
       "6674                   0.0                   1.0                   0.0   \n",
       "6675                   0.0                   1.0                   0.0   \n",
       "6676                   0.0                   1.0                   0.0   \n",
       "\n",
       "      household_adults_3.0  household_children_0.0  household_children_1.0  \\\n",
       "0                      0.0                     1.0                     0.0   \n",
       "1                      0.0                     0.0                     1.0   \n",
       "2                      0.0                     0.0                     1.0   \n",
       "3                      0.0                     0.0                     0.0   \n",
       "4                      0.0                     1.0                     0.0   \n",
       "...                    ...                     ...                     ...   \n",
       "6672                   0.0                     1.0                     0.0   \n",
       "6673                   0.0                     1.0                     0.0   \n",
       "6674                   0.0                     1.0                     0.0   \n",
       "6675                   0.0                     0.0                     1.0   \n",
       "6676                   0.0                     0.0                     1.0   \n",
       "\n",
       "      household_children_2.0  household_children_3.0  age_group_18 - 34 Years  \\\n",
       "0                        0.0                     0.0                      1.0   \n",
       "1                        0.0                     0.0                      0.0   \n",
       "2                        0.0                     0.0                      0.0   \n",
       "3                        1.0                     0.0                      0.0   \n",
       "4                        0.0                     0.0                      0.0   \n",
       "...                      ...                     ...                      ...   \n",
       "6672                     0.0                     0.0                      0.0   \n",
       "6673                     0.0                     0.0                      0.0   \n",
       "6674                     0.0                     0.0                      0.0   \n",
       "6675                     0.0                     0.0                      0.0   \n",
       "6676                     0.0                     0.0                      0.0   \n",
       "\n",
       "      age_group_35 - 44 Years  ...  behavioral_wash_hands  \\\n",
       "0                         0.0  ...                    1.0   \n",
       "1                         1.0  ...                    1.0   \n",
       "2                         0.0  ...                    1.0   \n",
       "3                         1.0  ...                    1.0   \n",
       "4                         0.0  ...                    1.0   \n",
       "...                       ...  ...                    ...   \n",
       "6672                      0.0  ...                    0.0   \n",
       "6673                      0.0  ...                    1.0   \n",
       "6674                      0.0  ...                    1.0   \n",
       "6675                      0.0  ...                    1.0   \n",
       "6676                      1.0  ...                    1.0   \n",
       "\n",
       "      behavioral_large_gatherings  behavioral_outside_home  \\\n",
       "0                             1.0                      1.0   \n",
       "1                             1.0                      1.0   \n",
       "2                             1.0                      1.0   \n",
       "3                             0.0                      0.0   \n",
       "4                             1.0                      0.0   \n",
       "...                           ...                      ...   \n",
       "6672                          0.0                      0.0   \n",
       "6673                          0.0                      0.0   \n",
       "6674                          0.0                      0.0   \n",
       "6675                          0.0                      0.0   \n",
       "6676                          1.0                      0.0   \n",
       "\n",
       "      behavioral_touch_face  doctor_recc_h1n1  doctor_recc_seasonal  \\\n",
       "0                       1.0               0.0                   0.0   \n",
       "1                       0.0               0.0                   0.0   \n",
       "2                       1.0               0.0                   1.0   \n",
       "3                       0.0               0.0                   0.0   \n",
       "4                       1.0               0.0                   0.0   \n",
       "...                     ...               ...                   ...   \n",
       "6672                    0.0               0.0                   0.0   \n",
       "6673                    1.0               0.0                   0.0   \n",
       "6674                    0.0               1.0                   1.0   \n",
       "6675                    1.0               0.0                   0.0   \n",
       "6676                    0.0               0.0                   1.0   \n",
       "\n",
       "      chronic_med_condition  child_under_6_months  health_worker  \\\n",
       "0                       0.0                   0.0            0.0   \n",
       "1                       0.0                   0.0            0.0   \n",
       "2                       0.0                   0.0            0.0   \n",
       "3                       0.0                   0.0            0.0   \n",
       "4                       0.0                   1.0            0.0   \n",
       "...                     ...                   ...            ...   \n",
       "6672                    1.0                   0.0            0.0   \n",
       "6673                    0.0                   0.0            0.0   \n",
       "6674                    0.0                   0.0            0.0   \n",
       "6675                    0.0                   0.0            0.0   \n",
       "6676                    0.0                   0.0            0.0   \n",
       "\n",
       "      health_insurance  \n",
       "0                  1.0  \n",
       "1                  1.0  \n",
       "2                  1.0  \n",
       "3                  1.0  \n",
       "4                  1.0  \n",
       "...                ...  \n",
       "6672               1.0  \n",
       "6673               1.0  \n",
       "6674               1.0  \n",
       "6675               1.0  \n",
       "6676               1.0  \n",
       "\n",
       "[6677 rows x 86 columns]"
      ]
     },
     "execution_count": 62,
     "metadata": {},
     "output_type": "execute_result"
    }
   ],
   "source": [
    "X_test_encoded = CT.transform(X_test)\n",
    "X_test_encoded_df = pd.DataFrame(X_test_encoded, columns=allcols)\n",
    "X_test_encoded_df"
   ]
  },
  {
   "cell_type": "code",
   "execution_count": 63,
   "metadata": {},
   "outputs": [],
   "source": [
    "CT2 = ColumnTransformer(transformers=[\n",
    "    ('impute', SimpleImputer(strategy='most_frequent'), non_zero_coefficients)\n",
    "], remainder='drop')"
   ]
  },
  {
   "cell_type": "code",
   "execution_count": 64,
   "metadata": {},
   "outputs": [],
   "source": [
    "sm_pipe = Pipeline(steps=[\n",
    "    ('ct', CT2),\n",
    "    ('sm', LogisticRegression())\n",
    "])"
   ]
  },
  {
   "cell_type": "code",
   "execution_count": 65,
   "metadata": {},
   "outputs": [
    {
     "data": {
      "text/plain": [
       "Pipeline(steps=[('ct',\n",
       "                 ColumnTransformer(transformers=[('impute',\n",
       "                                                  SimpleImputer(strategy='most_frequent'),\n",
       "                                                  ['household_adults_2.0',\n",
       "                                                   'household_adults_3.0',\n",
       "                                                   'household_children_1.0',\n",
       "                                                   'household_children_2.0',\n",
       "                                                   'household_children_3.0',\n",
       "                                                   'age_group_18 - 34 Years',\n",
       "                                                   'age_group_35 - 44 Years',\n",
       "                                                   'age_group_45 - 54 Years',\n",
       "                                                   'age_group_65+ Years',\n",
       "                                                   'education_12 Years',\n",
       "                                                   'education_< 12...\n",
       "                                                   'income_poverty_Below '\n",
       "                                                   'Poverty',\n",
       "                                                   'marital_status_Not Married',\n",
       "                                                   'rent_or_own_Rent',\n",
       "                                                   'employment_status_Employed',\n",
       "                                                   'employment_status_Unemployed',\n",
       "                                                   'census_msa_MSA, Not '\n",
       "                                                   'Principle  City',\n",
       "                                                   'census_msa_Non-MSA',\n",
       "                                                   'h1n1_concern_0.0',\n",
       "                                                   'h1n1_concern_2.0',\n",
       "                                                   'h1n1_concern_3.0',\n",
       "                                                   'h1n1_knowledge_0.0',\n",
       "                                                   'h1n1_knowledge_1.0',\n",
       "                                                   'opinion_h1n1_vacc_effective_1.0', ...])])),\n",
       "                ('sm', LogisticRegression())])"
      ]
     },
     "execution_count": 65,
     "metadata": {},
     "output_type": "execute_result"
    }
   ],
   "source": [
    "sm_pipe.fit(X_train_encoded_df, y_train)"
   ]
  },
  {
   "cell_type": "code",
   "execution_count": 66,
   "metadata": {},
   "outputs": [
    {
     "name": "stdout",
     "output_type": "stream",
     "text": [
      "              precision    recall  f1-score   support\n",
      "\n",
      "           0       0.86      0.95      0.90      5260\n",
      "           1       0.71      0.43      0.53      1417\n",
      "\n",
      "    accuracy                           0.84      6677\n",
      "   macro avg       0.78      0.69      0.72      6677\n",
      "weighted avg       0.83      0.84      0.83      6677\n",
      "\n"
     ]
    }
   ],
   "source": [
    "print(classification_report(y_test, sm_pipe.predict(X_test_encoded_df)))"
   ]
  },
  {
   "cell_type": "code",
   "execution_count": 67,
   "metadata": {},
   "outputs": [
    {
     "data": {
      "image/png": "[encoded data removed]",
      "text/plain": [
       "<Figure size 432x288 with 2 Axes>"
      ]
     },
     "metadata": {
      "needs_background": "light"
     },
     "output_type": "display_data"
    }
   ],
   "source": [
    "plot_confusion_matrix(sm_pipe, X_test_encoded_df, y_test);"
   ]
  },
  {
   "cell_type": "code",
   "execution_count": 68,
   "metadata": {},
   "outputs": [
    {
     "data": {
      "image/png": "[encoded data removed]",
      "text/plain": [
       "<Figure size 432x288 with 1 Axes>"
      ]
     },
     "metadata": {
      "needs_background": "light"
     },
     "output_type": "display_data"
    }
   ],
   "source": [
    "plot_roc_curve(sm_pipe, X_test_encoded_df, y_test);"
   ]
  },
  {
   "cell_type": "code",
   "execution_count": 69,
   "metadata": {},
   "outputs": [
    {
     "data": {
      "text/plain": [
       "0.3801086657028685"
      ]
     },
     "execution_count": 69,
     "metadata": {},
     "output_type": "execute_result"
    }
   ],
   "source": [
    "log_loss(y_test, sm_pipe.predict_proba(X_test_encoded_df))"
   ]
  },
  {
   "cell_type": "markdown",
   "metadata": {},
   "source": [
    "Analysis: Just like the first simple model, the second model with selected features predicted with an accuracy score of 84%. Precision, recall, and F1 score were also identical. I will try to tune the model using grid search."
   ]
  },
  {
   "cell_type": "code",
   "execution_count": 70,
   "metadata": {},
   "outputs": [],
   "source": [
    "params1 = {\n",
    "    'sm__max_iter' : [10, 100, 1000, 10000],\n",
    "    'sm__C' : [0.0001, 0.001, 0.01, 0.1, 1],\n",
    "    'sm__tol' : [0.0001,0.001,0.01,0.1],\n",
    "    'sm__penalty' : ['l2','none'],\n",
    "    'sm__class_weight' : [None,'balanced']\n",
    "}"
   ]
  },
  {
   "cell_type": "code",
   "execution_count": 71,
   "metadata": {},
   "outputs": [],
   "source": [
    "gs1 = GridSearchCV(\n",
    "    estimator = sm_pipe,\n",
    "    param_grid = params1,\n",
    "    cv = 5,\n",
    "    verbose = 1\n",
    ")"
   ]
  },
  {
   "cell_type": "code",
   "execution_count": 72,
   "metadata": {},
   "outputs": [],
   "source": [
    "# I comment this out to avoid running the grid search again\n",
    "\n",
    "# gs1.fit(X_train_encoded_df, y_train)"
   ]
  },
  {
   "cell_type": "code",
   "execution_count": 73,
   "metadata": {},
   "outputs": [],
   "source": [
    "# I comment this out to avoid running the grid search again\n",
    "\n",
    "#gs1.best_params_"
   ]
  },
  {
   "cell_type": "markdown",
   "metadata": {},
   "source": [
    "Best params:\n",
    "\n",
    "{'sm__C': 1,\n",
    " 'sm__class_weight': None,\n",
    " 'sm__max_iter': 1000,\n",
    " 'sm__penalty': 'l2',\n",
    " 'sm__tol': 0.0001}"
   ]
  },
  {
   "cell_type": "code",
   "execution_count": 74,
   "metadata": {},
   "outputs": [],
   "source": [
    "# I comment this out to avoid running the grid search again\n",
    "\n",
    "#gs1.best_estimator_"
   ]
  },
  {
   "cell_type": "markdown",
   "metadata": {},
   "source": [
    "Pipeline(steps=[('ct',\n",
    "                 ColumnTransformer(transformers=[('impute',\n",
    "                                                  SimpleImputer(strategy='most_frequent'),\n",
    "                                                  ['household_adults_2.0',\n",
    "                                                   'household_adults_3.0',\n",
    "                                                   'household_children_1.0',\n",
    "                                                   'household_children_2.0',\n",
    "                                                   'household_children_3.0',\n",
    "                                                   'age_group_18 - 34 Years',\n",
    "                                                   'age_group_35 - 44 Years',\n",
    "                                                   'age_group_45 - 54 Years',\n",
    "                                                   'age_group_65+ Years',\n",
    "                                                   'education_12 Years',\n",
    "                                                   'education_< 12...\n",
    "                                                   'marital_status_Not Married',\n",
    "                                                   'rent_or_own_Rent',\n",
    "                                                   'employment_status_Employed',\n",
    "                                                   'employment_status_Unemployed',\n",
    "                                                   'census_msa_MSA, Not '\n",
    "                                                   'Principle  City',\n",
    "                                                   'census_msa_Non-MSA',\n",
    "                                                   'h1n1_concern_0.0',\n",
    "                                                   'h1n1_concern_2.0',\n",
    "                                                   'h1n1_concern_3.0',\n",
    "                                                   'h1n1_knowledge_0.0',\n",
    "                                                   'h1n1_knowledge_1.0',\n",
    "                                                   'opinion_h1n1_vacc_effective_1.0', ...])])),\n",
    "                ('sm', LogisticRegression(C=1, max_iter=1000))])"
   ]
  },
  {
   "cell_type": "code",
   "execution_count": 75,
   "metadata": {},
   "outputs": [],
   "source": [
    "sm_optimized_pipe = Pipeline(steps=[\n",
    "    ('ct', CT2),\n",
    "    ('sm', LogisticRegression(C=1, max_iter=1000, penalty='l2',tol=.0001))\n",
    "])"
   ]
  },
  {
   "cell_type": "code",
   "execution_count": 76,
   "metadata": {},
   "outputs": [
    {
     "data": {
      "text/plain": [
       "Pipeline(steps=[('ct',\n",
       "                 ColumnTransformer(transformers=[('impute',\n",
       "                                                  SimpleImputer(strategy='most_frequent'),\n",
       "                                                  ['household_adults_2.0',\n",
       "                                                   'household_adults_3.0',\n",
       "                                                   'household_children_1.0',\n",
       "                                                   'household_children_2.0',\n",
       "                                                   'household_children_3.0',\n",
       "                                                   'age_group_18 - 34 Years',\n",
       "                                                   'age_group_35 - 44 Years',\n",
       "                                                   'age_group_45 - 54 Years',\n",
       "                                                   'age_group_65+ Years',\n",
       "                                                   'education_12 Years',\n",
       "                                                   'education_< 12...\n",
       "                                                   'marital_status_Not Married',\n",
       "                                                   'rent_or_own_Rent',\n",
       "                                                   'employment_status_Employed',\n",
       "                                                   'employment_status_Unemployed',\n",
       "                                                   'census_msa_MSA, Not '\n",
       "                                                   'Principle  City',\n",
       "                                                   'census_msa_Non-MSA',\n",
       "                                                   'h1n1_concern_0.0',\n",
       "                                                   'h1n1_concern_2.0',\n",
       "                                                   'h1n1_concern_3.0',\n",
       "                                                   'h1n1_knowledge_0.0',\n",
       "                                                   'h1n1_knowledge_1.0',\n",
       "                                                   'opinion_h1n1_vacc_effective_1.0', ...])])),\n",
       "                ('sm', LogisticRegression(C=1, max_iter=1000))])"
      ]
     },
     "execution_count": 76,
     "metadata": {},
     "output_type": "execute_result"
    }
   ],
   "source": [
    "sm_optimized_pipe.fit(X_train_encoded_df, y_train)"
   ]
  },
  {
   "cell_type": "code",
   "execution_count": 77,
   "metadata": {},
   "outputs": [
    {
     "name": "stdout",
     "output_type": "stream",
     "text": [
      "              precision    recall  f1-score   support\n",
      "\n",
      "           0       0.86      0.95      0.90      5260\n",
      "           1       0.71      0.43      0.53      1417\n",
      "\n",
      "    accuracy                           0.84      6677\n",
      "   macro avg       0.78      0.69      0.72      6677\n",
      "weighted avg       0.83      0.84      0.83      6677\n",
      "\n"
     ]
    }
   ],
   "source": [
    "print(classification_report(y_test, sm_optimized_pipe.predict(X_test_encoded_df)))"
   ]
  },
  {
   "cell_type": "markdown",
   "metadata": {},
   "source": [
    "Analysis: Once again, using the parameters recommended by the grid search did not have any noticeable impact on the classification metrics."
   ]
  },
  {
   "cell_type": "markdown",
   "metadata": {},
   "source": [
    "### 4.4 Third Model: Feature Selection, Polynomial Features, and Ridge Regularization"
   ]
  },
  {
   "cell_type": "markdown",
   "metadata": {},
   "source": [
    "For my final model, I will see if we can improve the accuracy by using polynomial features to overfit the model to the train data and then using Ridge regularization to reduce the overfitting."
   ]
  },
  {
   "cell_type": "code",
   "execution_count": 78,
   "metadata": {},
   "outputs": [],
   "source": [
    "tm_pipe = Pipeline(steps=[\n",
    "    ('ct', CT2),\n",
    "    ('pf', PolynomialFeatures(degree=2)),\n",
    "    ('lr', LogisticRegression(penalty='l2'))\n",
    "])"
   ]
  },
  {
   "cell_type": "code",
   "execution_count": 79,
   "metadata": {},
   "outputs": [
    {
     "name": "stderr",
     "output_type": "stream",
     "text": [
      "C:\\Users\\Hendricks\\anaconda3\\envs\\learn-env\\lib\\site-packages\\sklearn\\linear_model\\_logistic.py:762: ConvergenceWarning: lbfgs failed to converge (status=1):\n",
      "STOP: TOTAL NO. of ITERATIONS REACHED LIMIT.\n",
      "\n",
      "Increase the number of iterations (max_iter) or scale the data as shown in:\n",
      "    https://scikit-learn.org/stable/modules/preprocessing.html\n",
      "Please also refer to the documentation for alternative solver options:\n",
      "    https://scikit-learn.org/stable/modules/linear_model.html#logistic-regression\n",
      "  n_iter_i = _check_optimize_result(\n"
     ]
    },
    {
     "data": {
      "text/plain": [
       "Pipeline(steps=[('ct',\n",
       "                 ColumnTransformer(transformers=[('impute',\n",
       "                                                  SimpleImputer(strategy='most_frequent'),\n",
       "                                                  ['household_adults_2.0',\n",
       "                                                   'household_adults_3.0',\n",
       "                                                   'household_children_1.0',\n",
       "                                                   'household_children_2.0',\n",
       "                                                   'household_children_3.0',\n",
       "                                                   'age_group_18 - 34 Years',\n",
       "                                                   'age_group_35 - 44 Years',\n",
       "                                                   'age_group_45 - 54 Years',\n",
       "                                                   'age_group_65+ Years',\n",
       "                                                   'education_12 Years',\n",
       "                                                   'education_< 12...\n",
       "                                                   'marital_status_Not Married',\n",
       "                                                   'rent_or_own_Rent',\n",
       "                                                   'employment_status_Employed',\n",
       "                                                   'employment_status_Unemployed',\n",
       "                                                   'census_msa_MSA, Not '\n",
       "                                                   'Principle  City',\n",
       "                                                   'census_msa_Non-MSA',\n",
       "                                                   'h1n1_concern_0.0',\n",
       "                                                   'h1n1_concern_2.0',\n",
       "                                                   'h1n1_concern_3.0',\n",
       "                                                   'h1n1_knowledge_0.0',\n",
       "                                                   'h1n1_knowledge_1.0',\n",
       "                                                   'opinion_h1n1_vacc_effective_1.0', ...])])),\n",
       "                ('pf', PolynomialFeatures()), ('lr', LogisticRegression())])"
      ]
     },
     "execution_count": 79,
     "metadata": {},
     "output_type": "execute_result"
    }
   ],
   "source": [
    "tm_pipe.fit(X_train_encoded_df, y_train)"
   ]
  },
  {
   "cell_type": "code",
   "execution_count": 80,
   "metadata": {},
   "outputs": [
    {
     "name": "stdout",
     "output_type": "stream",
     "text": [
      "              precision    recall  f1-score   support\n",
      "\n",
      "           0       0.87      0.92      0.90      5260\n",
      "           1       0.63      0.49      0.55      1417\n",
      "\n",
      "    accuracy                           0.83      6677\n",
      "   macro avg       0.75      0.71      0.72      6677\n",
      "weighted avg       0.82      0.83      0.82      6677\n",
      "\n"
     ]
    }
   ],
   "source": [
    "print(classification_report(y_test, tm_pipe.predict(X_test_encoded_df)))"
   ]
  },
  {
   "cell_type": "code",
   "execution_count": 81,
   "metadata": {},
   "outputs": [
    {
     "data": {
      "image/png": "[encoded data removed]",
      "text/plain": [
       "<Figure size 432x288 with 2 Axes>"
      ]
     },
     "metadata": {
      "needs_background": "light"
     },
     "output_type": "display_data"
    }
   ],
   "source": [
    "plot_confusion_matrix(tm_pipe, X_test_encoded_df, y_test);"
   ]
  },
  {
   "cell_type": "code",
   "execution_count": 82,
   "metadata": {},
   "outputs": [
    {
     "data": {
      "image/png": "[encoded data removed]",
      "text/plain": [
       "<Figure size 432x288 with 1 Axes>"
      ]
     },
     "metadata": {
      "needs_background": "light"
     },
     "output_type": "display_data"
    }
   ],
   "source": [
    "plot_roc_curve(tm_pipe, X_test_encoded_df, y_test);"
   ]
  },
  {
   "cell_type": "code",
   "execution_count": 83,
   "metadata": {},
   "outputs": [
    {
     "data": {
      "text/plain": [
       "0.4276401343255974"
      ]
     },
     "execution_count": 83,
     "metadata": {},
     "output_type": "execute_result"
    }
   ],
   "source": [
    "log_loss(y_test, tm_pipe.predict_proba(X_test_encoded_df))"
   ]
  },
  {
   "cell_type": "markdown",
   "metadata": {},
   "source": [
    "Analysis: Using feature selection, polynomial features, and Ridge regularization decreased the accuracy score by 1% when compared to using logistic regression on all columns or to using logistic regression on selected features. It also performed worse in terms of log loss and precision."
   ]
  },
  {
   "cell_type": "markdown",
   "metadata": {},
   "source": [
    "Note: When I ran a grid search on a similar model, it ran for 14 hours without finishing. I decided not to use a grid search to try to tune this model for practical reasons, but that could be a next step."
   ]
  },
  {
   "cell_type": "markdown",
   "metadata": {},
   "source": [
    "## 5. Conclusions"
   ]
  },
  {
   "cell_type": "markdown",
   "metadata": {},
   "source": [
    "Overall, the most accurate models were the first model and the second model, which had accuracy scores of 84%. The next best was the third model, which had an accuracy score of 83%. All of these models beat the baseline dummy classifier, which had an accuracy score of 79%. In the following code, I use the first model to investigate the strength of the coefficients for each variable. To conclude the project, I use what I learn from the analysis of coefficients to create recommendations for health care officials."
   ]
  },
  {
   "cell_type": "code",
   "execution_count": 84,
   "metadata": {},
   "outputs": [],
   "source": [
    "coeflist = list(zip(allcols,fsm_pipe.named_steps['fsm'].coef_[0]))"
   ]
  },
  {
   "cell_type": "code",
   "execution_count": 85,
   "metadata": {},
   "outputs": [
    {
     "data": {
      "text/plain": [
       "[('opinion_h1n1_risk_1.0', -0.8427417245122497),\n",
       " ('opinion_h1n1_vacc_effective_1.0', -0.6885835400721869),\n",
       " ('opinion_h1n1_vacc_effective_2.0', -0.6798846031799273),\n",
       " ('opinion_seas_risk_1.0', -0.5767665058333216),\n",
       " ('opinion_seas_sick_from_vacc_3.0', -0.5393868179102889),\n",
       " ('doctor_recc_seasonal', -0.4290819378562139),\n",
       " ('opinion_h1n1_sick_from_vacc_3.0', -0.4195460494528277),\n",
       " ('opinion_seas_vacc_effective_1.0', -0.4141087741907941),\n",
       " ('opinion_h1n1_risk_2.0', -0.3585799389709824),\n",
       " ('race_Black', -0.33227627547151956),\n",
       " ('education_< 12 Years', -0.31332511437191485),\n",
       " ('opinion_seas_vacc_effective_2.0', -0.30365366034078745),\n",
       " ('opinion_h1n1_vacc_effective_3.0', -0.2850945419391015),\n",
       " ('h1n1_concern_3.0', -0.27841677098670353),\n",
       " ('sex_Female', -0.2687227416536288),\n",
       " ('marital_status_Not Married', -0.2523378727399826),\n",
       " ('age_group_35 - 44 Years', -0.24854751634216432),\n",
       " ('opinion_seas_sick_from_vacc_5.0', -0.22785020906866865),\n",
       " ('rent_or_own_Rent', -0.22271075455824652),\n",
       " ('age_group_45 - 54 Years', -0.21407354067288623),\n",
       " ('behavioral_large_gatherings', -0.21087648400865788),\n",
       " ('age_group_18 - 34 Years', -0.1897647213846924),\n",
       " ('household_children_3.0', -0.17462508446236247),\n",
       " ('census_msa_MSA, Not Principle  City', -0.17428954900717863),\n",
       " ('h1n1_knowledge_1.0', -0.171703141597256),\n",
       " ('h1n1_knowledge_0.0', -0.16685609413616478),\n",
       " ('opinion_seas_risk_2.0', -0.15417779412941476),\n",
       " ('household_children_2.0', -0.1483711300564942),\n",
       " ('employment_status_Unemployed', -0.14337058565530775),\n",
       " ('income_poverty_Below Poverty', -0.12929833147793288),\n",
       " ('employment_status_Employed', -0.12803730142820696),\n",
       " ('rent_or_own_Own', -0.12693039063014339),\n",
       " ('income_poverty_<= $75,000, Above Poverty', -0.1258663869685488),\n",
       " ('household_adults_3.0', -0.12192039814570471),\n",
       " ('opinion_h1n1_sick_from_vacc_2.0', -0.11431938002872566),\n",
       " ('marital_status_Married', -0.09730327244838122),\n",
       " ('h1n1_concern_2.0', -0.09633454610797632),\n",
       " ('income_poverty_> $75,000', -0.09447642674188253),\n",
       " ('census_msa_Non-MSA', -0.09264404836758221),\n",
       " ('household_adults_2.0', -0.09206692568077869),\n",
       " ('census_msa_MSA, Principle City', -0.0827075478136309),\n",
       " ('behavioral_outside_home', -0.08153159108449659),\n",
       " ('sex_Male', -0.08091840353474111),\n",
       " ('employment_status_Not in Labor Force', -0.078233258104882),\n",
       " ('race_White', -0.07119903534393011),\n",
       " ('education_12 Years', -0.07000928678141478),\n",
       " ('opinion_h1n1_risk_3.0', -0.06924731460886445),\n",
       " ('behavioral_avoidance', -0.06870074461240666),\n",
       " ('household_adults_1.0', -0.06869746867084123),\n",
       " ('household_adults_0.0', -0.06695635269107958),\n",
       " ('race_Hispanic', -0.047542284016265375),\n",
       " ('household_children_0.0', -0.046666926671929024),\n",
       " ('h1n1_concern_1.0', -0.03315724676129401),\n",
       " ('opinion_seas_vacc_effective_4.0', -0.025112353620791398),\n",
       " ('education_Some College', -0.021447078816257084),\n",
       " ('h1n1_knowledge_2.0', -0.011081909455020637),\n",
       " ('opinion_h1n1_sick_from_vacc_5.0', 0.013979888205927486),\n",
       " ('household_children_1.0', 0.020021996002382664),\n",
       " ('opinion_h1n1_sick_from_vacc_4.0', 0.023482441986443354),\n",
       " ('behavioral_wash_hands', 0.02549550955778373),\n",
       " ('opinion_seas_vacc_effective_5.0', 0.051789031525040455),\n",
       " ('education_College Graduate', 0.055140334781203594),\n",
       " ('h1n1_concern_0.0', 0.058267418667581956),\n",
       " ('opinion_seas_risk_4.0', 0.05863625009829098),\n",
       " ('age_group_55 - 64 Years', 0.05976129604095848),\n",
       " ('opinion_seas_sick_from_vacc_4.0', 0.062497302835488135),\n",
       " ('chronic_med_condition', 0.08297701888435437),\n",
       " ('race_Other or Multiple', 0.10137644964331177),\n",
       " ('opinion_seas_sick_from_vacc_2.0', 0.10398356722142371),\n",
       " ('behavioral_touch_face', 0.11275062023688456),\n",
       " ('health_insurance', 0.12474019390161409),\n",
       " ('opinion_h1n1_sick_from_vacc_1.0', 0.14676195410079437),\n",
       " ('opinion_seas_risk_3.0', 0.14682707773037),\n",
       " ('opinion_seas_risk_5.0', 0.1758398269456808),\n",
       " ('behavioral_face_mask', 0.20838583143024456),\n",
       " ('behavioral_antiviral_meds', 0.2149849708521065),\n",
       " ('child_under_6_months', 0.22374339264571713),\n",
       " ('age_group_65+ Years', 0.24298333717039308),\n",
       " ('opinion_h1n1_vacc_effective_4.0', 0.24599862218919927),\n",
       " ('opinion_seas_sick_from_vacc_1.0', 0.2511150117336289),\n",
       " ('opinion_h1n1_risk_4.0', 0.3146550893283805),\n",
       " ('opinion_seas_vacc_effective_3.0', 0.34144461143891924),\n",
       " ('opinion_h1n1_risk_5.0', 0.6062727435753332),\n",
       " ('health_worker', 0.8142520440610115),\n",
       " ('opinion_h1n1_vacc_effective_5.0', 1.0579229178136564),\n",
       " ('doctor_recc_h1n1', 1.9601346612500234)]"
      ]
     },
     "execution_count": 85,
     "metadata": {},
     "output_type": "execute_result"
    }
   ],
   "source": [
    "# This line of code is adapted from ChatGPT\n",
    "\n",
    "sorted(coeflist, key=lambda x: x[1])"
   ]
  },
  {
   "cell_type": "markdown",
   "metadata": {},
   "source": [
    "In the following code, I concatenate the column names after one hot encoding with the names of the binary columns. Then I create I zip the column names together with the coefficients from fsm."
   ]
  },
  {
   "cell_type": "markdown",
   "metadata": {},
   "source": [
    "Because the coefficients represent log odds, which have a low level of interpretability, I decided to convert them to probabilities. I used both [Stack Overflow](https://stackoverflow.com/questions/48465737/how-to-convert-log-probability-into-simple-probability-between-0-and-1-values-us#:~:text=You%20have%20to%20take%20exponent,where%20p%20are%20the%20probabilities.) and [Stack Exchange](https://stats.stackexchange.com/questions/363791/logit-interpreting-coefficients-as-probabilities) for support. First, I use np.exp to transform the log odds into odds. Then I convert the odds into probabilities."
   ]
  },
  {
   "cell_type": "code",
   "execution_count": 86,
   "metadata": {},
   "outputs": [],
   "source": [
    "odds = np.exp(fsm_pipe.named_steps['fsm'].coef_[0])"
   ]
  },
  {
   "cell_type": "code",
   "execution_count": 87,
   "metadata": {},
   "outputs": [],
   "source": [
    "probabilities = (odds-1)*100"
   ]
  },
  {
   "cell_type": "code",
   "execution_count": 88,
   "metadata": {},
   "outputs": [],
   "source": [
    "problist = list(zip(allcols,probabilities))"
   ]
  },
  {
   "cell_type": "code",
   "execution_count": 89,
   "metadata": {},
   "outputs": [
    {
     "data": {
      "text/plain": [
       "[('opinion_h1n1_risk_1.0', -56.94714867815818),\n",
       " ('opinion_h1n1_vacc_effective_1.0', -49.77129651229427),\n",
       " ('opinion_h1n1_vacc_effective_2.0', -49.332454227120294),\n",
       " ('opinion_seas_risk_1.0', -43.82882751706531),\n",
       " ('opinion_seas_sick_from_vacc_3.0', -41.68943072580278),\n",
       " ('doctor_recc_seasonal', -34.889342328179396),\n",
       " ('opinion_h1n1_sick_from_vacc_3.0', -34.2654845712145),\n",
       " ('opinion_seas_vacc_effective_1.0', -33.90709446673937),\n",
       " ('opinion_h1n1_risk_2.0', -30.133222717661003),\n",
       " ('race_Black', -28.271087391427407),\n",
       " ('education_< 12 Years', -26.898778864502148),\n",
       " ('opinion_seas_vacc_effective_2.0', -26.188353880963344),\n",
       " ('opinion_h1n1_vacc_effective_3.0', -24.805683920573983),\n",
       " ('h1n1_concern_3.0', -24.301873206783796),\n",
       " ('sex_Female', -23.564484988295177),\n",
       " ('marital_status_Not Married', -22.301782738099043),\n",
       " ('age_group_35 - 44 Years', -22.006719959915742),\n",
       " ('opinion_seas_sick_from_vacc_5.0', -20.37564790383155),\n",
       " ('rent_or_own_Rent', -19.965368765920633),\n",
       " ('age_group_45 - 54 Years', -19.271098573769706),\n",
       " ('behavioral_large_gatherings', -19.01259068947978),\n",
       " ('age_group_18 - 34 Years', -17.284627736630632),\n",
       " ('household_children_3.0', -16.022819474541727),\n",
       " ('census_msa_MSA, Not Principle  City', -15.994637425275105),\n",
       " ('h1n1_knowledge_1.0', -15.777084113566819),\n",
       " ('h1n1_knowledge_0.0', -15.367860681441437),\n",
       " ('opinion_seas_risk_2.0', -14.28803833724861),\n",
       " ('household_children_2.0', -13.788889977915142),\n",
       " ('employment_status_Unemployed', -13.3567078219191),\n",
       " ('income_poverty_Below Poverty', -12.128822094543635),\n",
       " ('employment_status_Employed', -12.017944003090609),\n",
       " ('rent_or_own_Own', -11.920501795305071),\n",
       " ('income_poverty_<= $75,000, Above Poverty', -11.82673501144933),\n",
       " ('household_adults_3.0', -11.478116924148773),\n",
       " ('opinion_h1n1_sick_from_vacc_2.0', -10.80269679872533),\n",
       " ('marital_status_Married', -9.27191888671105),\n",
       " ('h1n1_concern_2.0', -9.183985619962964),\n",
       " ('income_poverty_> $75,000', -9.015081751714227),\n",
       " ('census_msa_Non-MSA', -8.848210115830978),\n",
       " ('household_adults_2.0', -8.795589167034946),\n",
       " ('census_msa_MSA, Principle City', -7.937965471278052),\n",
       " ('behavioral_outside_home', -7.829640822209482),\n",
       " ('sex_Male', -7.773105773982747),\n",
       " ('employment_status_Not in Labor Force', -7.525130374428235),\n",
       " ('race_White', -6.872348326172617),\n",
       " ('education_12 Years', -6.761483899144305),\n",
       " ('opinion_h1n1_risk_3.0', -6.690411670374008),\n",
       " ('behavioral_avoidance', -6.639397508876154),\n",
       " ('household_adults_1.0', -6.639091664496921),\n",
       " ('household_adults_0.0', -6.476397901854247),\n",
       " ('race_Hispanic', -4.642984849564424),\n",
       " ('household_children_0.0', -4.559476841676824),\n",
       " ('h1n1_concern_1.0', -3.261357075457505),\n",
       " ('opinion_seas_vacc_effective_4.0', -2.479966141607559),\n",
       " ('education_Some College', -2.121872563777627),\n",
       " ('h1n1_knowledge_2.0', -1.1020731295257713),\n",
       " ('opinion_h1n1_sick_from_vacc_5.0', 1.4078063804209062),\n",
       " ('household_children_1.0', 2.022378062466257),\n",
       " ('opinion_h1n1_sick_from_vacc_4.0', 2.3760325391152026),\n",
       " ('behavioral_wash_hands', 2.582329985984999),\n",
       " ('opinion_seas_vacc_effective_5.0', 5.315353687942337),\n",
       " ('education_College Graduate', 5.668889447565073),\n",
       " ('h1n1_concern_0.0', 5.999842117739829),\n",
       " ('opinion_seas_risk_4.0', 6.038945401979889),\n",
       " ('age_group_55 - 64 Years', 6.1583112206937685),\n",
       " ('opinion_seas_sick_from_vacc_4.0', 6.44915878050536),\n",
       " ('chronic_med_condition', 8.651683889219841),\n",
       " ('race_Other or Multiple', 10.66931776080855),\n",
       " ('opinion_seas_sick_from_vacc_2.0', 10.958222124681406),\n",
       " ('behavioral_touch_face', 11.93527542145809),\n",
       " ('health_insurance', 13.285409242834323),\n",
       " ('opinion_h1n1_sick_from_vacc_1.0', 15.807825443607948),\n",
       " ('opinion_seas_risk_3.0', 15.815367515114964),\n",
       " ('opinion_seas_risk_5.0', 19.224707750015433),\n",
       " ('behavioral_face_mask', 23.168830194162183),\n",
       " ('behavioral_antiviral_meds', 23.984326303827117),\n",
       " ('child_under_6_months', 25.075002659036972),\n",
       " ('age_group_65+ Years', 27.504737804424906),\n",
       " ('opinion_h1n1_vacc_effective_4.0', 27.889781146130677),\n",
       " ('opinion_seas_sick_from_vacc_1.0', 28.54579185734183),\n",
       " ('opinion_h1n1_risk_4.0', 36.97867753937254),\n",
       " ('opinion_seas_vacc_effective_3.0', 40.697866062430506),\n",
       " ('opinion_h1n1_risk_5.0', 83.3584407199835),\n",
       " ('health_worker', 125.74865402652833),\n",
       " ('opinion_h1n1_vacc_effective_5.0', 188.0381981486842),\n",
       " ('doctor_recc_h1n1', 610.0283133784806)]"
      ]
     },
     "execution_count": 89,
     "metadata": {},
     "output_type": "execute_result"
    }
   ],
   "source": [
    "sorted(problist, key=lambda x: x[1])"
   ]
  },
  {
   "cell_type": "code",
   "execution_count": 90,
   "metadata": {},
   "outputs": [
    {
     "data": {
      "text/plain": [
       "86"
      ]
     },
     "execution_count": 90,
     "metadata": {},
     "output_type": "execute_result"
    }
   ],
   "source": [
    "len(problist)"
   ]
  },
  {
   "cell_type": "markdown",
   "metadata": {},
   "source": [
    "Conclusions: Based on my model, a doctor recommendation was the variable associated with the strongest increase in the probability that someone would take the vaccine. Further, survey questions about the risk of H1N1, the vaccine's effectiveness, and the likelihood of getting sick from the vaccine all were associated with strong shifts in the probability of someone getting the vaccine.  When people responded that the risk of the virus was low, that response was associated with a 57% decrease in the probability of them getting the vaccine; when people responded that the risk of the virus was high, that response was associated with an 83% increase in the probability of them getting a vaccine. Finally, generally healthy behaviors like wearing a face mask were also associated with an increase in the probability that someone would get the vaccine.\n",
    "\n",
    "Based on these findings, my recommendations to public health officials would be:\n",
    "1: Doctors should be vocal supporters of vaccines when pandemics are going on.\n",
    "2: Fight the war of opinion by messaging on pandemic risks, vaccine effectiveness, and vaccine safety.\n",
    "3: Promote generally healthy behaviors like frequently washing hands when pandemics are not occurring to increase health consciousness."
   ]
  }
 ],
 "metadata": {
  "kernelspec": {
   "display_name": "Python 3",
   "language": "python",
   "name": "python3"
  },
  "language_info": {
   "codemirror_mode": {
    "name": "ipython",
    "version": 3
   },
   "file_extension": ".py",
   "mimetype": "text/x-python",
   "name": "python",
   "nbconvert_exporter": "python",
   "pygments_lexer": "ipython3",
   "version": "3.8.5"
  }
 },
 "nbformat": 4,
 "nbformat_minor": 2
}
